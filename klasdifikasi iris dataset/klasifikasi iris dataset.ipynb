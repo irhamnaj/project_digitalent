{
  "nbformat": 4,
  "nbformat_minor": 0,
  "metadata": {
    "colab": {
      "name": "kelasB_irham_najmudin",
      "provenance": [],
      "collapsed_sections": []
    },
    "kernelspec": {
      "name": "python3",
      "display_name": "Python 3"
    }
  },
  "cells": [
    {
      "cell_type": "markdown",
      "metadata": {
        "id": "dAU4IgsCvWtJ",
        "colab_type": "text"
      },
      "source": [
        "\n",
        "\n",
        "```\n",
        "sebelum melakukan prediksi , download dataset melalui  link yang telah diberikan melalui wget!\n",
        "```\n",
        "\n"
      ]
    },
    {
      "cell_type": "code",
      "metadata": {
        "id": "pSoF1CGMuC0g",
        "colab_type": "code",
        "outputId": "e873f368-f1ce-49e1-adf2-7cac5952fe27",
        "colab": {
          "base_uri": "https://localhost:8080/",
          "height": 374
        }
      },
      "source": [
        "!wget -O data_iris.csv https://tinyurl.com/fga-iris"
      ],
      "execution_count": 0,
      "outputs": [
        {
          "output_type": "stream",
          "text": [
            "--2019-07-30 02:37:17--  https://tinyurl.com/fga-iris\n",
            "Resolving tinyurl.com (tinyurl.com)... 104.20.218.42, 104.20.219.42, 2606:4700:10::6814:da2a, ...\n",
            "Connecting to tinyurl.com (tinyurl.com)|104.20.218.42|:443... connected.\n",
            "HTTP request sent, awaiting response... 301 Moved Permanently\n",
            "Location: https://datahub.io/machine-learning/iris/r/iris.csv [following]\n",
            "--2019-07-30 02:37:17--  https://datahub.io/machine-learning/iris/r/iris.csv\n",
            "Resolving datahub.io (datahub.io)... 104.24.113.103, 104.24.112.103, 2606:4700:30::6818:7167, ...\n",
            "Connecting to datahub.io (datahub.io)|104.24.113.103|:443... connected.\n",
            "HTTP request sent, awaiting response... 302 Found\n",
            "Location: https://pkgstore.datahub.io/machine-learning/iris/iris_csv/data/8bce8766530bf404228ea3fc026dfee3/iris_csv.csv [following]\n",
            "--2019-07-30 02:37:17--  https://pkgstore.datahub.io/machine-learning/iris/iris_csv/data/8bce8766530bf404228ea3fc026dfee3/iris_csv.csv\n",
            "Resolving pkgstore.datahub.io (pkgstore.datahub.io)... 104.24.113.103, 104.24.112.103, 2606:4700:30::6818:7167, ...\n",
            "Connecting to pkgstore.datahub.io (pkgstore.datahub.io)|104.24.113.103|:443... connected.\n",
            "HTTP request sent, awaiting response... 200 OK\n",
            "Length: 4753 (4.6K) [text/csv]\n",
            "Saving to: ‘data_iris.csv’\n",
            "\n",
            "data_iris.csv       100%[===================>]   4.64K  --.-KB/s    in 0s      \n",
            "\n",
            "2019-07-30 02:37:18 (49.2 MB/s) - ‘data_iris.csv’ saved [4753/4753]\n",
            "\n"
          ],
          "name": "stdout"
        }
      ]
    },
    {
      "cell_type": "markdown",
      "metadata": {
        "id": "t3KidOdQv_KP",
        "colab_type": "text"
      },
      "source": [
        "![alt text](https://)\n",
        "\n",
        "```\n",
        "import library untuk membaca dataset dan melakukan modifikasi dataset lalu import dataset melalui read_csv dan head untuk membaca lima dataset teratas\n",
        "```\n",
        "\n"
      ]
    },
    {
      "cell_type": "code",
      "metadata": {
        "id": "Vo6HSgyiuTl4",
        "colab_type": "code",
        "outputId": "1679eccd-55c1-4cc1-93f8-a41ce8027dec",
        "colab": {
          "base_uri": "https://localhost:8080/",
          "height": 204
        }
      },
      "source": [
        "import pandas as pd\n",
        "\n",
        "dataset_iris = pd.read_csv('data_iris.csv')\n",
        "\n",
        "dataset_iris.head()"
      ],
      "execution_count": 0,
      "outputs": [
        {
          "output_type": "execute_result",
          "data": {
            "text/html": [
              "<div>\n",
              "<style scoped>\n",
              "    .dataframe tbody tr th:only-of-type {\n",
              "        vertical-align: middle;\n",
              "    }\n",
              "\n",
              "    .dataframe tbody tr th {\n",
              "        vertical-align: top;\n",
              "    }\n",
              "\n",
              "    .dataframe thead th {\n",
              "        text-align: right;\n",
              "    }\n",
              "</style>\n",
              "<table border=\"1\" class=\"dataframe\">\n",
              "  <thead>\n",
              "    <tr style=\"text-align: right;\">\n",
              "      <th></th>\n",
              "      <th>sepallength</th>\n",
              "      <th>sepalwidth</th>\n",
              "      <th>petallength</th>\n",
              "      <th>petalwidth</th>\n",
              "      <th>class</th>\n",
              "    </tr>\n",
              "  </thead>\n",
              "  <tbody>\n",
              "    <tr>\n",
              "      <th>0</th>\n",
              "      <td>5.1</td>\n",
              "      <td>3.5</td>\n",
              "      <td>1.4</td>\n",
              "      <td>0.2</td>\n",
              "      <td>Iris-setosa</td>\n",
              "    </tr>\n",
              "    <tr>\n",
              "      <th>1</th>\n",
              "      <td>4.9</td>\n",
              "      <td>3.0</td>\n",
              "      <td>1.4</td>\n",
              "      <td>0.2</td>\n",
              "      <td>Iris-setosa</td>\n",
              "    </tr>\n",
              "    <tr>\n",
              "      <th>2</th>\n",
              "      <td>4.7</td>\n",
              "      <td>3.2</td>\n",
              "      <td>1.3</td>\n",
              "      <td>0.2</td>\n",
              "      <td>Iris-setosa</td>\n",
              "    </tr>\n",
              "    <tr>\n",
              "      <th>3</th>\n",
              "      <td>4.6</td>\n",
              "      <td>3.1</td>\n",
              "      <td>1.5</td>\n",
              "      <td>0.2</td>\n",
              "      <td>Iris-setosa</td>\n",
              "    </tr>\n",
              "    <tr>\n",
              "      <th>4</th>\n",
              "      <td>5.0</td>\n",
              "      <td>3.6</td>\n",
              "      <td>1.4</td>\n",
              "      <td>0.2</td>\n",
              "      <td>Iris-setosa</td>\n",
              "    </tr>\n",
              "  </tbody>\n",
              "</table>\n",
              "</div>"
            ],
            "text/plain": [
              "   sepallength  sepalwidth  petallength  petalwidth        class\n",
              "0          5.1         3.5          1.4         0.2  Iris-setosa\n",
              "1          4.9         3.0          1.4         0.2  Iris-setosa\n",
              "2          4.7         3.2          1.3         0.2  Iris-setosa\n",
              "3          4.6         3.1          1.5         0.2  Iris-setosa\n",
              "4          5.0         3.6          1.4         0.2  Iris-setosa"
            ]
          },
          "metadata": {
            "tags": []
          },
          "execution_count": 5
        }
      ]
    },
    {
      "cell_type": "markdown",
      "metadata": {
        "id": "ZGBK7SobGKxB",
        "colab_type": "text"
      },
      "source": [
        "** *italicized text*Data Preprocessing**"
      ]
    },
    {
      "cell_type": "markdown",
      "metadata": {
        "id": "3yq8KeZxxUOb",
        "colab_type": "text"
      },
      "source": [
        "ada beberapa tahapan dalam pemprosesan machine learning, dalam pertama adalah melakukan preprocessing data, sebelum melakukannya, lakukan peirntah info untuk mendapatkan informasi lebih jelas mengenai dataset"
      ]
    },
    {
      "cell_type": "code",
      "metadata": {
        "id": "ssBjDDGpw1Mb",
        "colab_type": "code",
        "outputId": "c68a0f2c-c42c-4965-f7fe-9ce56aff3de4",
        "colab": {
          "base_uri": "https://localhost:8080/",
          "height": 187
        }
      },
      "source": [
        "dataset_iris.info()"
      ],
      "execution_count": 0,
      "outputs": [
        {
          "output_type": "stream",
          "text": [
            "<class 'pandas.core.frame.DataFrame'>\n",
            "RangeIndex: 150 entries, 0 to 149\n",
            "Data columns (total 5 columns):\n",
            "sepallength    150 non-null float64\n",
            "sepalwidth     150 non-null float64\n",
            "petallength    150 non-null float64\n",
            "petalwidth     150 non-null float64\n",
            "class          150 non-null object\n",
            "dtypes: float64(4), object(1)\n",
            "memory usage: 5.9+ KB\n"
          ],
          "name": "stdout"
        }
      ]
    },
    {
      "cell_type": "markdown",
      "metadata": {
        "id": "fkkNMZvwyK-a",
        "colab_type": "text"
      },
      "source": [
        "dari dataset, terlihat bahwa dataset tidak memiliki nilai null atau data kosong dan data semua(kecuali class) merupakan float atau jenis angka. untuk lebih jelas melihat apakah ada data kosng"
      ]
    },
    {
      "cell_type": "code",
      "metadata": {
        "id": "tQUOuKJ3xzu_",
        "colab_type": "code",
        "outputId": "3b533939-5a63-4058-bbe5-72b676418907",
        "colab": {
          "base_uri": "https://localhost:8080/",
          "height": 119
        }
      },
      "source": [
        "dataset_iris.isnull().sum()"
      ],
      "execution_count": 0,
      "outputs": [
        {
          "output_type": "execute_result",
          "data": {
            "text/plain": [
              "sepallength    0\n",
              "sepalwidth     0\n",
              "petallength    0\n",
              "petalwidth     0\n",
              "class          0\n",
              "dtype: int64"
            ]
          },
          "metadata": {
            "tags": []
          },
          "execution_count": 7
        }
      ]
    },
    {
      "cell_type": "markdown",
      "metadata": {
        "id": "MQSmbcUGyncJ",
        "colab_type": "text"
      },
      "source": [
        "terlihat tidak ada data kosong sehingga kita bisa menskip untuk proses menangani data kosong, selanjutnya bisa melakukan perintah dtypes untuk melihat tipe datanya"
      ]
    },
    {
      "cell_type": "code",
      "metadata": {
        "id": "76Dm4_fuyXbN",
        "colab_type": "code",
        "outputId": "98d0e4c4-a8b8-434a-982e-b358bcde05a2",
        "colab": {
          "base_uri": "https://localhost:8080/",
          "height": 119
        }
      },
      "source": [
        "dataset_iris.dtypes"
      ],
      "execution_count": 0,
      "outputs": [
        {
          "output_type": "execute_result",
          "data": {
            "text/plain": [
              "sepallength    float64\n",
              "sepalwidth     float64\n",
              "petallength    float64\n",
              "petalwidth     float64\n",
              "class           object\n",
              "dtype: object"
            ]
          },
          "metadata": {
            "tags": []
          },
          "execution_count": 9
        }
      ]
    },
    {
      "cell_type": "markdown",
      "metadata": {
        "id": "VflcaqDwy67p",
        "colab_type": "text"
      },
      "source": [
        "dan terlihat bahwa selain kolom class semua berjenis angka sehingga tidak perlu dilakukan encoding atau memindahkan data dari string ke integer.  selanjutnya memisahkan antara data target dengan data yang digunakan untuk memperdiksi"
      ]
    },
    {
      "cell_type": "code",
      "metadata": {
        "id": "7XKxAWGiyl0E",
        "colab_type": "code",
        "outputId": "0db85414-8b3f-4ca3-cfb0-d62ea4d960cc",
        "colab": {
          "base_uri": "https://localhost:8080/",
          "height": 204
        }
      },
      "source": [
        "data_x = dataset_iris[['sepallength', 'sepalwidth', 'petallength', 'petalwidth']] #untuk data yang digunakan sebagai prediksi\n",
        "\n",
        "data_x.head()\n"
      ],
      "execution_count": 0,
      "outputs": [
        {
          "output_type": "execute_result",
          "data": {
            "text/html": [
              "<div>\n",
              "<style scoped>\n",
              "    .dataframe tbody tr th:only-of-type {\n",
              "        vertical-align: middle;\n",
              "    }\n",
              "\n",
              "    .dataframe tbody tr th {\n",
              "        vertical-align: top;\n",
              "    }\n",
              "\n",
              "    .dataframe thead th {\n",
              "        text-align: right;\n",
              "    }\n",
              "</style>\n",
              "<table border=\"1\" class=\"dataframe\">\n",
              "  <thead>\n",
              "    <tr style=\"text-align: right;\">\n",
              "      <th></th>\n",
              "      <th>sepallength</th>\n",
              "      <th>sepalwidth</th>\n",
              "      <th>petallength</th>\n",
              "      <th>petalwidth</th>\n",
              "    </tr>\n",
              "  </thead>\n",
              "  <tbody>\n",
              "    <tr>\n",
              "      <th>0</th>\n",
              "      <td>5.1</td>\n",
              "      <td>3.5</td>\n",
              "      <td>1.4</td>\n",
              "      <td>0.2</td>\n",
              "    </tr>\n",
              "    <tr>\n",
              "      <th>1</th>\n",
              "      <td>4.9</td>\n",
              "      <td>3.0</td>\n",
              "      <td>1.4</td>\n",
              "      <td>0.2</td>\n",
              "    </tr>\n",
              "    <tr>\n",
              "      <th>2</th>\n",
              "      <td>4.7</td>\n",
              "      <td>3.2</td>\n",
              "      <td>1.3</td>\n",
              "      <td>0.2</td>\n",
              "    </tr>\n",
              "    <tr>\n",
              "      <th>3</th>\n",
              "      <td>4.6</td>\n",
              "      <td>3.1</td>\n",
              "      <td>1.5</td>\n",
              "      <td>0.2</td>\n",
              "    </tr>\n",
              "    <tr>\n",
              "      <th>4</th>\n",
              "      <td>5.0</td>\n",
              "      <td>3.6</td>\n",
              "      <td>1.4</td>\n",
              "      <td>0.2</td>\n",
              "    </tr>\n",
              "  </tbody>\n",
              "</table>\n",
              "</div>"
            ],
            "text/plain": [
              "   sepallength  sepalwidth  petallength  petalwidth\n",
              "0          5.1         3.5          1.4         0.2\n",
              "1          4.9         3.0          1.4         0.2\n",
              "2          4.7         3.2          1.3         0.2\n",
              "3          4.6         3.1          1.5         0.2\n",
              "4          5.0         3.6          1.4         0.2"
            ]
          },
          "metadata": {
            "tags": []
          },
          "execution_count": 12
        }
      ]
    },
    {
      "cell_type": "markdown",
      "metadata": {
        "id": "HD3h-OB_z7u2",
        "colab_type": "text"
      },
      "source": [
        "untuk data target yaitu bagian class, karena datanya bentuk  integer kita bisa merubahnya dalam bentuk angka"
      ]
    },
    {
      "cell_type": "code",
      "metadata": {
        "id": "ikwJNdKl0iu1",
        "colab_type": "code",
        "colab": {}
      },
      "source": [
        "data_y = dataset_iris['class']\n",
        "\n",
        "data_y.replace('Iris-setosa', 0, inplace = True)\n",
        "data_y.replace('Iris-virginica', 1, inplace = True)\n",
        "data_y.replace('Iris-versicolor', 2, inplace = True)"
      ],
      "execution_count": 0,
      "outputs": []
    },
    {
      "cell_type": "code",
      "metadata": {
        "id": "vVC7UkUu1Y99",
        "colab_type": "code",
        "outputId": "9b19bea7-5fa2-4fb3-8e15-53a6dbad8b60",
        "colab": {
          "base_uri": "https://localhost:8080/",
          "height": 85
        }
      },
      "source": [
        "data_y.value_counts() # untuk melihat perubahannya"
      ],
      "execution_count": 0,
      "outputs": [
        {
          "output_type": "execute_result",
          "data": {
            "text/plain": [
              "2    50\n",
              "1    50\n",
              "0    50\n",
              "Name: class, dtype: int64"
            ]
          },
          "metadata": {
            "tags": []
          },
          "execution_count": 40
        }
      ]
    },
    {
      "cell_type": "markdown",
      "metadata": {
        "id": "qkDRLLEw2GAj",
        "colab_type": "text"
      },
      "source": [
        "agar dapat digunakan dalam knn dan support vector machine data harus dirubah dalam bentuk array, menggunakan library numpy"
      ]
    },
    {
      "cell_type": "code",
      "metadata": {
        "id": "n0IkD1z31iWC",
        "colab_type": "code",
        "outputId": "fa219e46-ab25-41b9-9e0c-84ae8622aeb4",
        "colab": {
          "base_uri": "https://localhost:8080/",
          "height": 102
        }
      },
      "source": [
        "import numpy as np\n",
        "\n",
        "data_x = np.array(data_x)\n",
        "\n",
        "data_x[0:5]"
      ],
      "execution_count": 0,
      "outputs": [
        {
          "output_type": "execute_result",
          "data": {
            "text/plain": [
              "array([[5.1, 3.5, 1.4, 0.2],\n",
              "       [4.9, 3. , 1.4, 0.2],\n",
              "       [4.7, 3.2, 1.3, 0.2],\n",
              "       [4.6, 3.1, 1.5, 0.2],\n",
              "       [5. , 3.6, 1.4, 0.2]])"
            ]
          },
          "metadata": {
            "tags": []
          },
          "execution_count": 41
        }
      ]
    },
    {
      "cell_type": "code",
      "metadata": {
        "id": "rWYAlrua2guj",
        "colab_type": "code",
        "outputId": "a93c7e15-b85d-463f-9320-ea8fc82506a0",
        "colab": {
          "base_uri": "https://localhost:8080/",
          "height": 136
        }
      },
      "source": [
        "data_y = np.array(data_y)\n",
        "\n",
        "data_y"
      ],
      "execution_count": 0,
      "outputs": [
        {
          "output_type": "execute_result",
          "data": {
            "text/plain": [
              "array([0, 0, 0, 0, 0, 0, 0, 0, 0, 0, 0, 0, 0, 0, 0, 0, 0, 0, 0, 0, 0, 0,\n",
              "       0, 0, 0, 0, 0, 0, 0, 0, 0, 0, 0, 0, 0, 0, 0, 0, 0, 0, 0, 0, 0, 0,\n",
              "       0, 0, 0, 0, 0, 0, 2, 2, 2, 2, 2, 2, 2, 2, 2, 2, 2, 2, 2, 2, 2, 2,\n",
              "       2, 2, 2, 2, 2, 2, 2, 2, 2, 2, 2, 2, 2, 2, 2, 2, 2, 2, 2, 2, 2, 2,\n",
              "       2, 2, 2, 2, 2, 2, 2, 2, 2, 2, 2, 2, 1, 1, 1, 1, 1, 1, 1, 1, 1, 1,\n",
              "       1, 1, 1, 1, 1, 1, 1, 1, 1, 1, 1, 1, 1, 1, 1, 1, 1, 1, 1, 1, 1, 1,\n",
              "       1, 1, 1, 1, 1, 1, 1, 1, 1, 1, 1, 1, 1, 1, 1, 1, 1, 1])"
            ]
          },
          "metadata": {
            "tags": []
          },
          "execution_count": 42
        }
      ]
    },
    {
      "cell_type": "markdown",
      "metadata": {
        "id": "NabrkB9C26yA",
        "colab_type": "text"
      },
      "source": [
        "karena algoritma knn dan svm sangat bergantung dengan jarak antar dataset, perlu dilakukan normalisasi atau standarisasi, yang kali ini menggunakan library sklearn data scaler"
      ]
    },
    {
      "cell_type": "code",
      "metadata": {
        "id": "UVw1kH_r2rw3",
        "colab_type": "code",
        "outputId": "7fe9c697-0045-4db9-df2e-bc6b47e45402",
        "colab": {
          "base_uri": "https://localhost:8080/",
          "height": 102
        }
      },
      "source": [
        "from sklearn import preprocessing\n",
        "\n",
        "data_x = preprocessing.StandardScaler().fit(data_x).transform(data_x.astype(float))\n",
        "data_x[0:5]"
      ],
      "execution_count": 0,
      "outputs": [
        {
          "output_type": "execute_result",
          "data": {
            "text/plain": [
              "array([[-0.90068117,  1.03205722, -1.3412724 , -1.31297673],\n",
              "       [-1.14301691, -0.1249576 , -1.3412724 , -1.31297673],\n",
              "       [-1.38535265,  0.33784833, -1.39813811, -1.31297673],\n",
              "       [-1.50652052,  0.10644536, -1.2844067 , -1.31297673],\n",
              "       [-1.02184904,  1.26346019, -1.3412724 , -1.31297673]])"
            ]
          },
          "metadata": {
            "tags": []
          },
          "execution_count": 47
        }
      ]
    },
    {
      "cell_type": "markdown",
      "metadata": {
        "id": "QblRuyv-3lZN",
        "colab_type": "text"
      },
      "source": [
        "dan terakhir, sebelum melakukan prediksi melalui knn dan support vector machine, data perlu di split menggunakan train test split, untuk membagi data menjadi data training dan data test, dalam memisahkan data ini, data dibagi  yaitu 80 % data training dan 20 % data testing"
      ]
    },
    {
      "cell_type": "code",
      "metadata": {
        "id": "0VdaoUba3QnE",
        "colab_type": "code",
        "outputId": "73952ce4-9b82-40ff-cbac-ee9818716bfb",
        "colab": {
          "base_uri": "https://localhost:8080/",
          "height": 51
        }
      },
      "source": [
        "from sklearn.model_selection import train_test_split\n",
        "X_train, X_test, y_train, y_test = train_test_split( data_x, data_y, test_size=0.2, random_state=42)\n",
        "print ('Train set:', X_train.shape,  y_train.shape)\n",
        "print ('Test set:', X_test.shape,  y_test.shape)"
      ],
      "execution_count": 0,
      "outputs": [
        {
          "output_type": "stream",
          "text": [
            "Train set: (120, 4) (120,)\n",
            "Test set: (30, 4) (30,)\n"
          ],
          "name": "stdout"
        }
      ]
    },
    {
      "cell_type": "markdown",
      "metadata": {
        "id": "FpexEguE4LbG",
        "colab_type": "text"
      },
      "source": [
        "**Prediksi melalui k nearest neighbors**"
      ]
    },
    {
      "cell_type": "markdown",
      "metadata": {
        "id": "qs2CNw2P4Pcr",
        "colab_type": "text"
      },
      "source": [
        "knn atau k nearest neighbors sangat bergantung terhadap jumlah k yang didefinisi, terlalu sedikit k akan mengakibatkan unde-fitting namun jika terlalu tinggi nilai k nya akan mengakibatkan pverfitting sehingga diperlukan tuning hyperparameter untuk mendapatkan jumlah k terbaik"
      ]
    },
    {
      "cell_type": "code",
      "metadata": {
        "id": "XL0ahWcF37z2",
        "colab_type": "code",
        "colab": {}
      },
      "source": [
        "from sklearn.neighbors import KNeighborsClassifier\n",
        "from sklearn import metrics\n",
        "\n",
        "range_k = range(1,30)\n",
        "nilai ={}\n",
        "nilai_list = []\n",
        "\n",
        "for k in range_k:\n",
        "  knn = KNeighborsClassifier(n_neighbors=k)\n",
        "  knn.fit(X_train, y_train)\n",
        "  y_pred = knn.predict(X_test)\n",
        "  nilai[k] = metrics.accuracy_score(y_test, y_pred)\n",
        "  nilai_list.append(metrics.accuracy_score(y_test, y_pred))"
      ],
      "execution_count": 0,
      "outputs": []
    },
    {
      "cell_type": "markdown",
      "metadata": {
        "id": "CywLLB0z6AJj",
        "colab_type": "text"
      },
      "source": [
        "plot menggunakan matplotlib"
      ]
    },
    {
      "cell_type": "code",
      "metadata": {
        "id": "b9RBES0T522k",
        "colab_type": "code",
        "outputId": "3b13cd12-262b-483a-c929-a9253ab6f401",
        "colab": {
          "base_uri": "https://localhost:8080/",
          "height": 283
        }
      },
      "source": [
        "import matplotlib.pyplot as plt\n",
        "\n",
        "plt.plot(range_k, nilai_list)\n",
        "plt.xlabel('nilai k')\n",
        "plt.ylabel('akurasi')\n",
        "plt.show()"
      ],
      "execution_count": 0,
      "outputs": [
        {
          "output_type": "display_data",
          "data": {
            "image/png": "[encoded data removed]",
            "text/plain": [
              "<Figure size 432x288 with 1 Axes>"
            ]
          },
          "metadata": {
            "tags": []
          }
        }
      ]
    },
    {
      "cell_type": "markdown",
      "metadata": {
        "id": "O-LvQSoH6bFg",
        "colab_type": "text"
      },
      "source": [
        "terlihat bahwa range antara 3 sampai 18 dan 20 sampai 30 memiliki nilai tertinggi, kita bisa menggunakan salah satunya untuk memprediksi nilainya"
      ]
    },
    {
      "cell_type": "code",
      "metadata": {
        "id": "OoqHJTx06Rgg",
        "colab_type": "code",
        "outputId": "08117e08-d28d-4a24-9176-810cce62d561",
        "colab": {
          "base_uri": "https://localhost:8080/",
          "height": 68
        }
      },
      "source": [
        "k = 25\n",
        " \n",
        "k_nearest = KNeighborsClassifier(n_neighbors = k).fit(X_train,y_train)\n",
        "k_nearest"
      ],
      "execution_count": 0,
      "outputs": [
        {
          "output_type": "execute_result",
          "data": {
            "text/plain": [
              "KNeighborsClassifier(algorithm='auto', leaf_size=30, metric='minkowski',\n",
              "                     metric_params=None, n_jobs=None, n_neighbors=25, p=2,\n",
              "                     weights='uniform')"
            ]
          },
          "metadata": {
            "tags": []
          },
          "execution_count": 80
        }
      ]
    },
    {
      "cell_type": "code",
      "metadata": {
        "id": "JmlmHq6M61TQ",
        "colab_type": "code",
        "outputId": "24b60573-66df-40e5-a27e-4c26ded21ab0",
        "colab": {
          "base_uri": "https://localhost:8080/",
          "height": 51
        }
      },
      "source": [
        "y_predict = k_nearest.predict(X_test)\n",
        "\n",
        "y_predict"
      ],
      "execution_count": 0,
      "outputs": [
        {
          "output_type": "execute_result",
          "data": {
            "text/plain": [
              "array([2, 0, 1, 2, 2, 0, 2, 1, 2, 2, 1, 0, 0, 0, 0, 2, 1, 2, 2, 1, 0, 1,\n",
              "       0, 1, 1, 1, 1, 1, 0, 0])"
            ]
          },
          "metadata": {
            "tags": []
          },
          "execution_count": 81
        }
      ]
    },
    {
      "cell_type": "markdown",
      "metadata": {
        "id": "bZZz6iNC8Ua5",
        "colab_type": "text"
      },
      "source": [
        "setelah dilakukan prediksi kita bisa melihat akurasi dari model knn yang dibuat dengan menggunakan jaccard index dan confussion matrix"
      ]
    },
    {
      "cell_type": "code",
      "metadata": {
        "id": "Ru7q_r808CkS",
        "colab_type": "code",
        "outputId": "c5885ed5-d3ef-4bba-a139-508255089897",
        "colab": {
          "base_uri": "https://localhost:8080/",
          "height": 88
        }
      },
      "source": [
        "from sklearn.metrics import jaccard_similarity_score\n",
        "jaccard_similarity_score(y_test, y_predict)"
      ],
      "execution_count": 0,
      "outputs": [
        {
          "output_type": "stream",
          "text": [
            "/usr/local/lib/python3.6/dist-packages/sklearn/metrics/classification.py:635: DeprecationWarning: jaccard_similarity_score has been deprecated and replaced with jaccard_score. It will be removed in version 0.23. This implementation has surprising behavior for binary and multiclass classification tasks.\n",
            "  'and multiclass classification tasks.', DeprecationWarning)\n"
          ],
          "name": "stderr"
        },
        {
          "output_type": "execute_result",
          "data": {
            "text/plain": [
              "1.0"
            ]
          },
          "metadata": {
            "tags": []
          },
          "execution_count": 82
        }
      ]
    },
    {
      "cell_type": "markdown",
      "metadata": {
        "id": "9lfGhsV89H5_",
        "colab_type": "text"
      },
      "source": [
        "dari jaccard index di dapatkan nilai 1.0 atau 100 % sehingga model yang dibuat memiliki akurasi yang tinggi, karena semakin dekat nilai jaccard index dengan 1 maka akurasinya semakin tinggi"
      ]
    },
    {
      "cell_type": "code",
      "metadata": {
        "id": "v5T6NDdE7sGU",
        "colab_type": "code",
        "outputId": "39bab7e4-7d13-4644-c217-dabf6b3568ff",
        "colab": {
          "base_uri": "https://localhost:8080/",
          "height": 187
        }
      },
      "source": [
        "from sklearn.metrics import confusion_matrix, classification_report\n",
        "print (classification_report(y_test, y_predict))"
      ],
      "execution_count": 0,
      "outputs": [
        {
          "output_type": "stream",
          "text": [
            "              precision    recall  f1-score   support\n",
            "\n",
            "           0       1.00      1.00      1.00        10\n",
            "           1       1.00      1.00      1.00        11\n",
            "           2       1.00      1.00      1.00         9\n",
            "\n",
            "    accuracy                           1.00        30\n",
            "   macro avg       1.00      1.00      1.00        30\n",
            "weighted avg       1.00      1.00      1.00        30\n",
            "\n"
          ],
          "name": "stdout"
        }
      ]
    },
    {
      "cell_type": "markdown",
      "metadata": {
        "id": "nzm82Y0_-5wb",
        "colab_type": "text"
      },
      "source": [
        "dalam classfication report juga didapatkan akurasi yang tinggi, yaitu 1"
      ]
    },
    {
      "cell_type": "code",
      "metadata": {
        "id": "k4dQyaG399cd",
        "colab_type": "code",
        "outputId": "7a4d0906-a3e2-4111-fa16-8da5864d84ff",
        "colab": {
          "base_uri": "https://localhost:8080/",
          "height": 68
        }
      },
      "source": [
        "\n",
        "cnf_matrix = confusion_matrix(y_test, y_predict, labels=[0,1,2])\n",
        "np.set_printoptions(precision=2)\n",
        "\n",
        "cnf_matrix"
      ],
      "execution_count": 0,
      "outputs": [
        {
          "output_type": "execute_result",
          "data": {
            "text/plain": [
              "array([[10,  0,  0],\n",
              "       [ 0, 11,  0],\n",
              "       [ 0,  0,  9]])"
            ]
          },
          "metadata": {
            "tags": []
          },
          "execution_count": 84
        }
      ]
    },
    {
      "cell_type": "markdown",
      "metadata": {
        "id": "gPQK_x5__HZa",
        "colab_type": "text"
      },
      "source": [
        "begitu juga dengan confussion matrix diatas dimana tidak ditemukan adanya kesalahan nilai, lbih jelasnya dapat dilihat di plot dibawah"
      ]
    },
    {
      "cell_type": "code",
      "metadata": {
        "id": "zOHbjqUwHNEQ",
        "colab_type": "code",
        "outputId": "de8c6125-1327-4359-f058-c19a0746a10e",
        "colab": {
          "base_uri": "https://localhost:8080/",
          "height": 379
        }
      },
      "source": [
        "import itertools\n",
        "def plot_confusion_matrix(cm, classes,\n",
        "                          normalize=False,\n",
        "                          title='Confusion matrix',\n",
        "                          cmap=plt.cm.Blues):\n",
        "   \n",
        "    if normalize:\n",
        "        cm = cm.astype('float') / cm.sum(axis=1)[:, np.newaxis]\n",
        "        print(\"Normalized confusion matrix\")\n",
        "    else:\n",
        "        print('Confusion matrix, without normalization')\n",
        "\n",
        "    print(cm)\n",
        "\n",
        "    plt.imshow(cm, interpolation='nearest', cmap=cmap)\n",
        "    plt.title(title)\n",
        "    plt.colorbar()\n",
        "    tick_marks = np.arange(len(classes))\n",
        "    plt.xticks(tick_marks, classes, rotation=45)\n",
        "    plt.yticks(tick_marks, classes)\n",
        "\n",
        "    fmt = '.2f' if normalize else 'd'\n",
        "    thresh = cm.max() / 2.\n",
        "    for i, j in itertools.product(range(cm.shape[0]), range(cm.shape[1])):\n",
        "        plt.text(j, i, format(cm[i, j], fmt),\n",
        "                 horizontalalignment=\"center\",\n",
        "                 color=\"white\" if cm[i, j] > thresh else \"black\")\n",
        "\n",
        "    plt.tight_layout()\n",
        "    plt.ylabel('True label')\n",
        "    plt.xlabel('Predicted label')\n",
        "    \n",
        "    \n",
        "plt.figure()\n",
        "plot_confusion_matrix(cnf_matrix, classes=['Iris-setosa','Iris-virginica','Iris-versicolor',],normalize= False,  title='Confusion matrix')"
      ],
      "execution_count": 0,
      "outputs": [
        {
          "output_type": "stream",
          "text": [
            "Confusion matrix, without normalization\n",
            "[[10  0  0]\n",
            " [ 0 11  0]\n",
            " [ 0  0  9]]\n"
          ],
          "name": "stdout"
        },
        {
          "output_type": "display_data",
          "data": {
            "image/png": "[encoded data removed]",
            "text/plain": [
              "<Figure size 432x288 with 2 Axes>"
            ]
          },
          "metadata": {
            "tags": []
          }
        }
      ]
    },
    {
      "cell_type": "markdown",
      "metadata": {
        "id": "gFqzV11h_Mty",
        "colab_type": "text"
      },
      "source": [
        "**Support Vector machine**"
      ]
    },
    {
      "cell_type": "markdown",
      "metadata": {
        "id": "n5LAs4IbDt38",
        "colab_type": "text"
      },
      "source": [
        "untuk support vector machine, import librarynya menggunakan sklearn. dan training model menggunakan data training"
      ]
    },
    {
      "cell_type": "code",
      "metadata": {
        "id": "vinBHRwS_BcJ",
        "colab_type": "code",
        "outputId": "fab6b9a0-8b7b-40d2-9f65-244733918060",
        "colab": {
          "base_uri": "https://localhost:8080/",
          "height": 85
        }
      },
      "source": [
        "from sklearn import svm\n",
        "vector_machine = svm.SVC(kernel='rbf', gamma='auto')\n",
        "vector_machine.fit(X_train, y_train) "
      ],
      "execution_count": 0,
      "outputs": [
        {
          "output_type": "execute_result",
          "data": {
            "text/plain": [
              "SVC(C=1.0, cache_size=200, class_weight=None, coef0=0.0,\n",
              "    decision_function_shape='ovr', degree=3, gamma='auto', kernel='rbf',\n",
              "    max_iter=-1, probability=False, random_state=None, shrinking=True,\n",
              "    tol=0.001, verbose=False)"
            ]
          },
          "metadata": {
            "tags": []
          },
          "execution_count": 86
        }
      ]
    },
    {
      "cell_type": "markdown",
      "metadata": {
        "id": "dsHwQ8NOEiy8",
        "colab_type": "text"
      },
      "source": [
        "kemudian prediksi menggunakan x_test"
      ]
    },
    {
      "cell_type": "code",
      "metadata": {
        "id": "sG324EIi_Fq-",
        "colab_type": "code",
        "colab": {}
      },
      "source": [
        "y_predict = vector_machine.predict(X_test)"
      ],
      "execution_count": 0,
      "outputs": []
    },
    {
      "cell_type": "markdown",
      "metadata": {
        "id": "EAUhRbcwEmni",
        "colab_type": "text"
      },
      "source": [
        "dari data diatas kemudian dilihat akurasi"
      ]
    },
    {
      "cell_type": "code",
      "metadata": {
        "id": "uiLovH3rAVZq",
        "colab_type": "code",
        "outputId": "e4fd4fbb-afc3-4cc2-d507-8c44c7db3da0",
        "colab": {
          "base_uri": "https://localhost:8080/",
          "height": 88
        }
      },
      "source": [
        "from sklearn.metrics import jaccard_similarity_score\n",
        "jaccard_similarity_score(y_test, y_predict)"
      ],
      "execution_count": 0,
      "outputs": [
        {
          "output_type": "stream",
          "text": [
            "/usr/local/lib/python3.6/dist-packages/sklearn/metrics/classification.py:635: DeprecationWarning: jaccard_similarity_score has been deprecated and replaced with jaccard_score. It will be removed in version 0.23. This implementation has surprising behavior for binary and multiclass classification tasks.\n",
            "  'and multiclass classification tasks.', DeprecationWarning)\n"
          ],
          "name": "stderr"
        },
        {
          "output_type": "execute_result",
          "data": {
            "text/plain": [
              "1.0"
            ]
          },
          "metadata": {
            "tags": []
          },
          "execution_count": 88
        }
      ]
    },
    {
      "cell_type": "markdown",
      "metadata": {
        "id": "mZ6_7ro5Eutr",
        "colab_type": "text"
      },
      "source": [
        "dimana akurasinya didapatkan tepat  yaitu 1.0 atau memiliki akurasi yang tinggi."
      ]
    },
    {
      "cell_type": "code",
      "metadata": {
        "id": "79Jb5ZpcAdiK",
        "colab_type": "code",
        "outputId": "8b65fcb2-c355-4f0b-a05e-179814514f4d",
        "colab": {
          "base_uri": "https://localhost:8080/",
          "height": 238
        }
      },
      "source": [
        "print (classification_report(y_test, y_predict))\n",
        "\n",
        "cnf_matrixs = confusion_matrix(y_test, y_predict, labels=[0,1,2])\n",
        "np.set_printoptions(precision=2)\n",
        "\n",
        "cnf_matrixs\n"
      ],
      "execution_count": 0,
      "outputs": [
        {
          "output_type": "stream",
          "text": [
            "              precision    recall  f1-score   support\n",
            "\n",
            "           0       1.00      1.00      1.00        10\n",
            "           1       1.00      1.00      1.00        11\n",
            "           2       1.00      1.00      1.00         9\n",
            "\n",
            "    accuracy                           1.00        30\n",
            "   macro avg       1.00      1.00      1.00        30\n",
            "weighted avg       1.00      1.00      1.00        30\n",
            "\n"
          ],
          "name": "stdout"
        },
        {
          "output_type": "execute_result",
          "data": {
            "text/plain": [
              "array([[10,  0,  0],\n",
              "       [ 0, 11,  0],\n",
              "       [ 0,  0,  9]])"
            ]
          },
          "metadata": {
            "tags": []
          },
          "execution_count": 91
        }
      ]
    },
    {
      "cell_type": "markdown",
      "metadata": {
        "id": "QR6ZLGh9Fgjy",
        "colab_type": "text"
      },
      "source": [
        "dari data diatas didapatkan akurasi 100 % dimana model secara tepat dapat memprediksi class dari data yang diberikan. dimana lebih jelanya diperlihatkan dalam plot dibawah"
      ]
    },
    {
      "cell_type": "code",
      "metadata": {
        "id": "-YLgLLigFNNk",
        "colab_type": "code",
        "outputId": "6bb2f96f-6d76-4ce7-9292-95b55d20059d",
        "colab": {
          "base_uri": "https://localhost:8080/",
          "height": 379
        }
      },
      "source": [
        "import itertools\n",
        "def plot_confusion_matrix(cm, classes,\n",
        "                          normalize=False,\n",
        "                          title='Confusion matrix',\n",
        "                          cmap=plt.cm.Blues):\n",
        "   \n",
        "    if normalize:\n",
        "        cm = cm.astype('float') / cm.sum(axis=1)[:, np.newaxis]\n",
        "        print(\"Normalized confusion matrix\")\n",
        "    else:\n",
        "        print('Confusion matrix, without normalization')\n",
        "\n",
        "    print(cm)\n",
        "\n",
        "    plt.imshow(cm, interpolation='nearest', cmap=cmap)\n",
        "    plt.title(title)\n",
        "    plt.colorbar()\n",
        "    tick_marks = np.arange(len(classes))\n",
        "    plt.xticks(tick_marks, classes, rotation=45)\n",
        "    plt.yticks(tick_marks, classes)\n",
        "\n",
        "    fmt = '.2f' if normalize else 'd'\n",
        "    thresh = cm.max() / 2.\n",
        "    for i, j in itertools.product(range(cm.shape[0]), range(cm.shape[1])):\n",
        "        plt.text(j, i, format(cm[i, j], fmt),\n",
        "                 horizontalalignment=\"center\",\n",
        "                 color=\"white\" if cm[i, j] > thresh else \"black\")\n",
        "\n",
        "    plt.tight_layout()\n",
        "    plt.ylabel('True label')\n",
        "    plt.xlabel('Predicted label')\n",
        "    \n",
        "    \n",
        "plt.figure()\n",
        "plot_confusion_matrix(cnf_matrixs, classes=['Iris-setosa','Iris-virginica','Iris-versicolor',],normalize= False,  title='Confusion matrix')"
      ],
      "execution_count": 0,
      "outputs": [
        {
          "output_type": "stream",
          "text": [
            "Confusion matrix, without normalization\n",
            "[[10  0  0]\n",
            " [ 0 11  0]\n",
            " [ 0  0  9]]\n"
          ],
          "name": "stdout"
        },
        {
          "output_type": "display_data",
          "data": {
            "image/png": "[encoded data removed]",
            "text/plain": [
              "<Figure size 432x288 with 2 Axes>"
            ]
          },
          "metadata": {
            "tags": []
          }
        }
      ]
    },
    {
      "cell_type": "code",
      "metadata": {
        "id": "4pTg0knQH9NC",
        "colab_type": "code",
        "colab": {}
      },
      "source": [
        ""
      ],
      "execution_count": 0,
      "outputs": []
    }
  ]
}