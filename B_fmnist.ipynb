{
  "nbformat": 4,
  "nbformat_minor": 0,
  "metadata": {
    "colab": {
      "name": "B_Galang Luhur P",
      "provenance": [],
      "collapsed_sections": []
    },
    "kernelspec": {
      "name": "python3",
      "display_name": "Python 3"
    },
    "accelerator": "GPU"
  },
  "cells": [
    {
      "cell_type": "markdown",
      "metadata": {
        "id": "0mrQtdsQJQqh",
        "colab_type": "text"
      },
      "source": [
        "#KLASIFIKASI DATA FASHION MNIST MENGGUNAKAN CNN"
      ]
    },
    {
      "cell_type": "markdown",
      "metadata": {
        "id": "lDeWbMDtJbXZ",
        "colab_type": "text"
      },
      "source": [
        "PENGENALAN DATA\n",
        "\n",
        "data yang digunakan kali ini merupakan data Fashion MNIST yaitu merupakan  dataset yang terdiri dari 10 kategori fashion sebagai berikut:\n",
        "\n",
        "T-Shirt/Tops = 0 \n",
        "\n",
        "Trouser = 1\n",
        "\n",
        "Pullover = 2\n",
        "\n",
        "Dress = 3\n",
        "\n",
        "Coat = 4\n",
        "\n",
        "Sandal = 5\n",
        "\n",
        "Shirt = 6\n",
        "\n",
        "Sneaker = 7\n",
        "\n",
        "Bag = 8\n",
        "\n",
        "Ankle Boot = 9\n",
        "\n",
        "dimana Tiap kategori terdiri dari 6.000 images untuk training dan 1.000 images untuk testing. Jadi total untuk training data ada 60.000 images dan 10.000 untuk testing data.\n",
        "\n",
        "\n",
        "\n"
      ]
    },
    {
      "cell_type": "markdown",
      "metadata": {
        "id": "BXmMe6qOLGnz",
        "colab_type": "text"
      },
      "source": [
        "DESKRIPSI DATA\n",
        "\n",
        " setiap image dalam fashion mnist dataset memiliki 28 pixel kebawah dan 28 pixel kesamping sehingga totalnya memiliki 784 pixel. Setiap pixel memiliki nilai angka tersendiri yang mewakili gelap dan cerahnya suatu gambar. Semakin tinggi angka pixel, maka semakin gelap gambarnya. Sebaliknya, semakin rendah angka pixel maka semakin cerah gambarnya. Nilai pixel ini tersebar dalam bentuk angka integer antara 0 s/d 255.\n",
        " \n",
        " Training dan testing data memiliki 785 kolom, kolom pertama menunjukkan label, dan sisanya merupakan nilai pixel\n"
      ]
    },
    {
      "cell_type": "markdown",
      "metadata": {
        "id": "I1UpN6S0Mg3q",
        "colab_type": "text"
      },
      "source": [
        "#DOWNLOAD DAN IMPORT DATA SET"
      ]
    },
    {
      "cell_type": "markdown",
      "metadata": {
        "id": "KZsNyIMwND_h",
        "colab_type": "text"
      },
      "source": [
        "A. DOWNLOAD DATASET\n",
        "\n",
        "data didownload menggunakn fungsi wget dan akan secara otomatis tersimpan dalam google drive"
      ]
    },
    {
      "cell_type": "code",
      "metadata": {
        "id": "1VFWekEdJZWr",
        "colab_type": "code",
        "outputId": "79a5ab3c-de04-470c-cc22-befaedf7a057",
        "colab": {
          "base_uri": "https://localhost:8080/",
          "height": 224
        }
      },
      "source": [
        "!wget https://bitbucket.org/dehex/dataset/raw/a5f8c0d3a7e6a132491d996df704c2118f946f8b/fashionmnist.zip"
      ],
      "execution_count": 0,
      "outputs": [
        {
          "output_type": "stream",
          "text": [
            "--2019-08-20 14:45:01--  https://bitbucket.org/dehex/dataset/raw/a5f8c0d3a7e6a132491d996df704c2118f946f8b/fashionmnist.zip\n",
            "Resolving bitbucket.org (bitbucket.org)... 18.205.93.0, 18.205.93.1, 18.205.93.2, ...\n",
            "Connecting to bitbucket.org (bitbucket.org)|18.205.93.0|:443... connected.\n",
            "HTTP request sent, awaiting response... 200 OK\n",
            "Length: 72114606 (69M) [application/zip]\n",
            "Saving to: ‘fashionmnist.zip’\n",
            "\n",
            "fashionmnist.zip    100%[===================>]  68.77M  51.1MB/s    in 1.3s    \n",
            "\n",
            "2019-08-20 14:45:05 (51.1 MB/s) - ‘fashionmnist.zip’ saved [72114606/72114606]\n",
            "\n"
          ],
          "name": "stdout"
        }
      ]
    },
    {
      "cell_type": "code",
      "metadata": {
        "id": "cpMTOJFVMy97",
        "colab_type": "code",
        "outputId": "857e91ef-f3b6-4d83-f19c-7e7b2f174adf",
        "colab": {
          "base_uri": "https://localhost:8080/",
          "height": 136
        }
      },
      "source": [
        "#unzip dataset\n",
        "!unzip /content/fashionmnist.zip"
      ],
      "execution_count": 0,
      "outputs": [
        {
          "output_type": "stream",
          "text": [
            "Archive:  /content/fashionmnist.zip\n",
            "  inflating: t10k-images-idx3-ubyte  \n",
            "  inflating: fashion-mnist_test.csv  \n",
            "  inflating: train-labels-idx1-ubyte  \n",
            "  inflating: train-images-idx3-ubyte  \n",
            "  inflating: fashion-mnist_train.csv  \n",
            "  inflating: t10k-labels-idx1-ubyte  \n"
          ],
          "name": "stdout"
        }
      ]
    },
    {
      "cell_type": "markdown",
      "metadata": {
        "id": "vJv7yV4pNgJ-",
        "colab_type": "text"
      },
      "source": [
        "B. IMPORT LIBRARY\n",
        "\n",
        "beberapa library yang digunakan untuk analisis data fashion mnist menggunakan cnn adalah sebagai berikut"
      ]
    },
    {
      "cell_type": "code",
      "metadata": {
        "id": "foZ9qGQvNSzX",
        "colab_type": "code",
        "colab": {}
      },
      "source": [
        "import numpy as np\n",
        "import pandas as pd\n",
        "import tensorflow as tf\n",
        "from tensorflow.python.keras.utils import to_categorical\n",
        "from sklearn.model_selection import train_test_split\n",
        "from tensorflow.python import keras\n",
        "from tensorflow.python.keras.models import Sequential\n",
        "from tensorflow.python.keras.layers import Input, Dense, Flatten, Conv2D, Dropout, MaxPooling2D, AveragePooling2D, BatchNormalization\n",
        "\n",
        "from sklearn.metrics import confusion_matrix, classification_report\n",
        "import matplotlib.pyplot as plt\n",
        "import seaborn as sns\n",
        "import itertools\n",
        "%matplotlib inline"
      ],
      "execution_count": 0,
      "outputs": []
    },
    {
      "cell_type": "markdown",
      "metadata": {
        "id": "28y2AdpJPbNV",
        "colab_type": "text"
      },
      "source": [
        "C. MENENTUKAN PARAMETER"
      ]
    },
    {
      "cell_type": "code",
      "metadata": {
        "id": "T5S_wlMrR498",
        "colab_type": "code",
        "colab": {}
      },
      "source": [
        "img_rows = 28 #jumlah row dalam 1 image\n",
        "img_cols = 28 #jumlah kolom dalam 1 image\n",
        "num_classes = 10 #jumlah target class\n",
        "test_size = 0.2 #untuk split data\n",
        "random_state = 2018\n",
        "\n",
        "epochs = 30 #jumlah iterasi(pengulangan pembelajaran)\n",
        "batch_size = 128 #jumlah image yang dimasukkan dalam sekali iterasi"
      ],
      "execution_count": 0,
      "outputs": []
    },
    {
      "cell_type": "markdown",
      "metadata": {
        "id": "GCbb9R_JMFy9",
        "colab_type": "text"
      },
      "source": [
        "Script diatas merupakan penentuan awal dari beberapa parameter yang dibutuhkan didalam model CNN. Input gambar pada model ini adalah 28 x 28. Untuk \n",
        "\n",
        "batch_sizenya berukuran 128. Batch Size adalah jumlah sampel yang disebarkan ke dalam arsitektur neural network.\n",
        "\n",
        "test_size adalah pembagian yang akan digunakan dalam mensplit data menjadi data training dan data validasi.\n",
        "\n",
        "terakhir, no_epoch merupakan jumlah pengulangan dalam pembelajaran"
      ]
    },
    {
      "cell_type": "markdown",
      "metadata": {
        "id": "Ga9n9qrFOd1c",
        "colab_type": "text"
      },
      "source": [
        "D. MELIHAT DATASET\n",
        "\n",
        "untuk melihat secara detail , dapat menggunakan pd.read_csv"
      ]
    },
    {
      "cell_type": "code",
      "metadata": {
        "id": "xtyBlm3XOXna",
        "colab_type": "code",
        "outputId": "434fa99f-a0ec-466c-bb6c-da1780bb9cdb",
        "colab": {
          "base_uri": "https://localhost:8080/",
          "height": 253
        }
      },
      "source": [
        "fashion_train = pd.read_csv(\"/content/fashion-mnist_train.csv\",\n",
        "                     sep=\",\")\n",
        "\n",
        "fashion_test = pd.read_csv(\"/content/fashion-mnist_test.csv\",\n",
        "                     sep=\",\")\n",
        "fashion_train.head()"
      ],
      "execution_count": 0,
      "outputs": [
        {
          "output_type": "execute_result",
          "data": {
            "text/html": [
              "<div>\n",
              "<style scoped>\n",
              "    .dataframe tbody tr th:only-of-type {\n",
              "        vertical-align: middle;\n",
              "    }\n",
              "\n",
              "    .dataframe tbody tr th {\n",
              "        vertical-align: top;\n",
              "    }\n",
              "\n",
              "    .dataframe thead th {\n",
              "        text-align: right;\n",
              "    }\n",
              "</style>\n",
              "<table border=\"1\" class=\"dataframe\">\n",
              "  <thead>\n",
              "    <tr style=\"text-align: right;\">\n",
              "      <th></th>\n",
              "      <th>label</th>\n",
              "      <th>pixel1</th>\n",
              "      <th>pixel2</th>\n",
              "      <th>pixel3</th>\n",
              "      <th>pixel4</th>\n",
              "      <th>pixel5</th>\n",
              "      <th>pixel6</th>\n",
              "      <th>pixel7</th>\n",
              "      <th>pixel8</th>\n",
              "      <th>pixel9</th>\n",
              "      <th>pixel10</th>\n",
              "      <th>pixel11</th>\n",
              "      <th>pixel12</th>\n",
              "      <th>pixel13</th>\n",
              "      <th>pixel14</th>\n",
              "      <th>pixel15</th>\n",
              "      <th>pixel16</th>\n",
              "      <th>pixel17</th>\n",
              "      <th>pixel18</th>\n",
              "      <th>pixel19</th>\n",
              "      <th>pixel20</th>\n",
              "      <th>pixel21</th>\n",
              "      <th>pixel22</th>\n",
              "      <th>pixel23</th>\n",
              "      <th>pixel24</th>\n",
              "      <th>pixel25</th>\n",
              "      <th>pixel26</th>\n",
              "      <th>pixel27</th>\n",
              "      <th>pixel28</th>\n",
              "      <th>pixel29</th>\n",
              "      <th>pixel30</th>\n",
              "      <th>pixel31</th>\n",
              "      <th>pixel32</th>\n",
              "      <th>pixel33</th>\n",
              "      <th>pixel34</th>\n",
              "      <th>pixel35</th>\n",
              "      <th>pixel36</th>\n",
              "      <th>pixel37</th>\n",
              "      <th>pixel38</th>\n",
              "      <th>pixel39</th>\n",
              "      <th>...</th>\n",
              "      <th>pixel745</th>\n",
              "      <th>pixel746</th>\n",
              "      <th>pixel747</th>\n",
              "      <th>pixel748</th>\n",
              "      <th>pixel749</th>\n",
              "      <th>pixel750</th>\n",
              "      <th>pixel751</th>\n",
              "      <th>pixel752</th>\n",
              "      <th>pixel753</th>\n",
              "      <th>pixel754</th>\n",
              "      <th>pixel755</th>\n",
              "      <th>pixel756</th>\n",
              "      <th>pixel757</th>\n",
              "      <th>pixel758</th>\n",
              "      <th>pixel759</th>\n",
              "      <th>pixel760</th>\n",
              "      <th>pixel761</th>\n",
              "      <th>pixel762</th>\n",
              "      <th>pixel763</th>\n",
              "      <th>pixel764</th>\n",
              "      <th>pixel765</th>\n",
              "      <th>pixel766</th>\n",
              "      <th>pixel767</th>\n",
              "      <th>pixel768</th>\n",
              "      <th>pixel769</th>\n",
              "      <th>pixel770</th>\n",
              "      <th>pixel771</th>\n",
              "      <th>pixel772</th>\n",
              "      <th>pixel773</th>\n",
              "      <th>pixel774</th>\n",
              "      <th>pixel775</th>\n",
              "      <th>pixel776</th>\n",
              "      <th>pixel777</th>\n",
              "      <th>pixel778</th>\n",
              "      <th>pixel779</th>\n",
              "      <th>pixel780</th>\n",
              "      <th>pixel781</th>\n",
              "      <th>pixel782</th>\n",
              "      <th>pixel783</th>\n",
              "      <th>pixel784</th>\n",
              "    </tr>\n",
              "  </thead>\n",
              "  <tbody>\n",
              "    <tr>\n",
              "      <th>0</th>\n",
              "      <td>2</td>\n",
              "      <td>0</td>\n",
              "      <td>0</td>\n",
              "      <td>0</td>\n",
              "      <td>0</td>\n",
              "      <td>0</td>\n",
              "      <td>0</td>\n",
              "      <td>0</td>\n",
              "      <td>0</td>\n",
              "      <td>0</td>\n",
              "      <td>0</td>\n",
              "      <td>0</td>\n",
              "      <td>0</td>\n",
              "      <td>0</td>\n",
              "      <td>0</td>\n",
              "      <td>0</td>\n",
              "      <td>0</td>\n",
              "      <td>0</td>\n",
              "      <td>0</td>\n",
              "      <td>0</td>\n",
              "      <td>0</td>\n",
              "      <td>0</td>\n",
              "      <td>0</td>\n",
              "      <td>0</td>\n",
              "      <td>0</td>\n",
              "      <td>0</td>\n",
              "      <td>0</td>\n",
              "      <td>0</td>\n",
              "      <td>0</td>\n",
              "      <td>0</td>\n",
              "      <td>0</td>\n",
              "      <td>0</td>\n",
              "      <td>0</td>\n",
              "      <td>0</td>\n",
              "      <td>0</td>\n",
              "      <td>0</td>\n",
              "      <td>0</td>\n",
              "      <td>0</td>\n",
              "      <td>0</td>\n",
              "      <td>0</td>\n",
              "      <td>...</td>\n",
              "      <td>0</td>\n",
              "      <td>0</td>\n",
              "      <td>0</td>\n",
              "      <td>0</td>\n",
              "      <td>0</td>\n",
              "      <td>0</td>\n",
              "      <td>0</td>\n",
              "      <td>0</td>\n",
              "      <td>0</td>\n",
              "      <td>0</td>\n",
              "      <td>0</td>\n",
              "      <td>0</td>\n",
              "      <td>0</td>\n",
              "      <td>0</td>\n",
              "      <td>0</td>\n",
              "      <td>0</td>\n",
              "      <td>0</td>\n",
              "      <td>0</td>\n",
              "      <td>0</td>\n",
              "      <td>0</td>\n",
              "      <td>0</td>\n",
              "      <td>0</td>\n",
              "      <td>0</td>\n",
              "      <td>0</td>\n",
              "      <td>0</td>\n",
              "      <td>0</td>\n",
              "      <td>0</td>\n",
              "      <td>0</td>\n",
              "      <td>0</td>\n",
              "      <td>0</td>\n",
              "      <td>0</td>\n",
              "      <td>0</td>\n",
              "      <td>0</td>\n",
              "      <td>0</td>\n",
              "      <td>0</td>\n",
              "      <td>0</td>\n",
              "      <td>0</td>\n",
              "      <td>0</td>\n",
              "      <td>0</td>\n",
              "      <td>0</td>\n",
              "    </tr>\n",
              "    <tr>\n",
              "      <th>1</th>\n",
              "      <td>9</td>\n",
              "      <td>0</td>\n",
              "      <td>0</td>\n",
              "      <td>0</td>\n",
              "      <td>0</td>\n",
              "      <td>0</td>\n",
              "      <td>0</td>\n",
              "      <td>0</td>\n",
              "      <td>0</td>\n",
              "      <td>0</td>\n",
              "      <td>0</td>\n",
              "      <td>0</td>\n",
              "      <td>0</td>\n",
              "      <td>0</td>\n",
              "      <td>0</td>\n",
              "      <td>0</td>\n",
              "      <td>0</td>\n",
              "      <td>0</td>\n",
              "      <td>0</td>\n",
              "      <td>0</td>\n",
              "      <td>0</td>\n",
              "      <td>0</td>\n",
              "      <td>0</td>\n",
              "      <td>0</td>\n",
              "      <td>0</td>\n",
              "      <td>0</td>\n",
              "      <td>0</td>\n",
              "      <td>0</td>\n",
              "      <td>0</td>\n",
              "      <td>0</td>\n",
              "      <td>0</td>\n",
              "      <td>0</td>\n",
              "      <td>0</td>\n",
              "      <td>0</td>\n",
              "      <td>0</td>\n",
              "      <td>0</td>\n",
              "      <td>0</td>\n",
              "      <td>0</td>\n",
              "      <td>0</td>\n",
              "      <td>0</td>\n",
              "      <td>...</td>\n",
              "      <td>0</td>\n",
              "      <td>0</td>\n",
              "      <td>0</td>\n",
              "      <td>0</td>\n",
              "      <td>0</td>\n",
              "      <td>0</td>\n",
              "      <td>0</td>\n",
              "      <td>0</td>\n",
              "      <td>0</td>\n",
              "      <td>0</td>\n",
              "      <td>0</td>\n",
              "      <td>0</td>\n",
              "      <td>0</td>\n",
              "      <td>0</td>\n",
              "      <td>0</td>\n",
              "      <td>0</td>\n",
              "      <td>0</td>\n",
              "      <td>0</td>\n",
              "      <td>0</td>\n",
              "      <td>0</td>\n",
              "      <td>0</td>\n",
              "      <td>0</td>\n",
              "      <td>0</td>\n",
              "      <td>0</td>\n",
              "      <td>0</td>\n",
              "      <td>0</td>\n",
              "      <td>0</td>\n",
              "      <td>0</td>\n",
              "      <td>0</td>\n",
              "      <td>0</td>\n",
              "      <td>0</td>\n",
              "      <td>0</td>\n",
              "      <td>0</td>\n",
              "      <td>0</td>\n",
              "      <td>0</td>\n",
              "      <td>0</td>\n",
              "      <td>0</td>\n",
              "      <td>0</td>\n",
              "      <td>0</td>\n",
              "      <td>0</td>\n",
              "    </tr>\n",
              "    <tr>\n",
              "      <th>2</th>\n",
              "      <td>6</td>\n",
              "      <td>0</td>\n",
              "      <td>0</td>\n",
              "      <td>0</td>\n",
              "      <td>0</td>\n",
              "      <td>0</td>\n",
              "      <td>0</td>\n",
              "      <td>0</td>\n",
              "      <td>5</td>\n",
              "      <td>0</td>\n",
              "      <td>0</td>\n",
              "      <td>0</td>\n",
              "      <td>105</td>\n",
              "      <td>92</td>\n",
              "      <td>101</td>\n",
              "      <td>107</td>\n",
              "      <td>100</td>\n",
              "      <td>132</td>\n",
              "      <td>0</td>\n",
              "      <td>0</td>\n",
              "      <td>2</td>\n",
              "      <td>4</td>\n",
              "      <td>0</td>\n",
              "      <td>1</td>\n",
              "      <td>0</td>\n",
              "      <td>0</td>\n",
              "      <td>0</td>\n",
              "      <td>0</td>\n",
              "      <td>0</td>\n",
              "      <td>0</td>\n",
              "      <td>0</td>\n",
              "      <td>0</td>\n",
              "      <td>0</td>\n",
              "      <td>0</td>\n",
              "      <td>0</td>\n",
              "      <td>0</td>\n",
              "      <td>0</td>\n",
              "      <td>0</td>\n",
              "      <td>0</td>\n",
              "      <td>150</td>\n",
              "      <td>...</td>\n",
              "      <td>211</td>\n",
              "      <td>220</td>\n",
              "      <td>214</td>\n",
              "      <td>74</td>\n",
              "      <td>0</td>\n",
              "      <td>255</td>\n",
              "      <td>222</td>\n",
              "      <td>128</td>\n",
              "      <td>0</td>\n",
              "      <td>0</td>\n",
              "      <td>0</td>\n",
              "      <td>0</td>\n",
              "      <td>0</td>\n",
              "      <td>0</td>\n",
              "      <td>0</td>\n",
              "      <td>0</td>\n",
              "      <td>0</td>\n",
              "      <td>44</td>\n",
              "      <td>12</td>\n",
              "      <td>0</td>\n",
              "      <td>0</td>\n",
              "      <td>40</td>\n",
              "      <td>134</td>\n",
              "      <td>162</td>\n",
              "      <td>191</td>\n",
              "      <td>214</td>\n",
              "      <td>163</td>\n",
              "      <td>146</td>\n",
              "      <td>165</td>\n",
              "      <td>79</td>\n",
              "      <td>0</td>\n",
              "      <td>0</td>\n",
              "      <td>0</td>\n",
              "      <td>30</td>\n",
              "      <td>43</td>\n",
              "      <td>0</td>\n",
              "      <td>0</td>\n",
              "      <td>0</td>\n",
              "      <td>0</td>\n",
              "      <td>0</td>\n",
              "    </tr>\n",
              "    <tr>\n",
              "      <th>3</th>\n",
              "      <td>0</td>\n",
              "      <td>0</td>\n",
              "      <td>0</td>\n",
              "      <td>0</td>\n",
              "      <td>1</td>\n",
              "      <td>2</td>\n",
              "      <td>0</td>\n",
              "      <td>0</td>\n",
              "      <td>0</td>\n",
              "      <td>0</td>\n",
              "      <td>0</td>\n",
              "      <td>114</td>\n",
              "      <td>183</td>\n",
              "      <td>112</td>\n",
              "      <td>55</td>\n",
              "      <td>23</td>\n",
              "      <td>72</td>\n",
              "      <td>102</td>\n",
              "      <td>165</td>\n",
              "      <td>160</td>\n",
              "      <td>28</td>\n",
              "      <td>0</td>\n",
              "      <td>0</td>\n",
              "      <td>0</td>\n",
              "      <td>1</td>\n",
              "      <td>0</td>\n",
              "      <td>0</td>\n",
              "      <td>0</td>\n",
              "      <td>0</td>\n",
              "      <td>0</td>\n",
              "      <td>0</td>\n",
              "      <td>0</td>\n",
              "      <td>0</td>\n",
              "      <td>1</td>\n",
              "      <td>0</td>\n",
              "      <td>0</td>\n",
              "      <td>24</td>\n",
              "      <td>188</td>\n",
              "      <td>163</td>\n",
              "      <td>93</td>\n",
              "      <td>...</td>\n",
              "      <td>171</td>\n",
              "      <td>249</td>\n",
              "      <td>207</td>\n",
              "      <td>197</td>\n",
              "      <td>202</td>\n",
              "      <td>45</td>\n",
              "      <td>0</td>\n",
              "      <td>3</td>\n",
              "      <td>0</td>\n",
              "      <td>0</td>\n",
              "      <td>0</td>\n",
              "      <td>0</td>\n",
              "      <td>0</td>\n",
              "      <td>0</td>\n",
              "      <td>0</td>\n",
              "      <td>0</td>\n",
              "      <td>0</td>\n",
              "      <td>0</td>\n",
              "      <td>1</td>\n",
              "      <td>0</td>\n",
              "      <td>0</td>\n",
              "      <td>0</td>\n",
              "      <td>22</td>\n",
              "      <td>21</td>\n",
              "      <td>25</td>\n",
              "      <td>69</td>\n",
              "      <td>52</td>\n",
              "      <td>45</td>\n",
              "      <td>74</td>\n",
              "      <td>39</td>\n",
              "      <td>3</td>\n",
              "      <td>0</td>\n",
              "      <td>0</td>\n",
              "      <td>0</td>\n",
              "      <td>0</td>\n",
              "      <td>1</td>\n",
              "      <td>0</td>\n",
              "      <td>0</td>\n",
              "      <td>0</td>\n",
              "      <td>0</td>\n",
              "    </tr>\n",
              "    <tr>\n",
              "      <th>4</th>\n",
              "      <td>3</td>\n",
              "      <td>0</td>\n",
              "      <td>0</td>\n",
              "      <td>0</td>\n",
              "      <td>0</td>\n",
              "      <td>0</td>\n",
              "      <td>0</td>\n",
              "      <td>0</td>\n",
              "      <td>0</td>\n",
              "      <td>0</td>\n",
              "      <td>0</td>\n",
              "      <td>0</td>\n",
              "      <td>0</td>\n",
              "      <td>46</td>\n",
              "      <td>0</td>\n",
              "      <td>21</td>\n",
              "      <td>68</td>\n",
              "      <td>0</td>\n",
              "      <td>0</td>\n",
              "      <td>0</td>\n",
              "      <td>0</td>\n",
              "      <td>0</td>\n",
              "      <td>0</td>\n",
              "      <td>0</td>\n",
              "      <td>0</td>\n",
              "      <td>0</td>\n",
              "      <td>0</td>\n",
              "      <td>0</td>\n",
              "      <td>0</td>\n",
              "      <td>0</td>\n",
              "      <td>0</td>\n",
              "      <td>0</td>\n",
              "      <td>0</td>\n",
              "      <td>0</td>\n",
              "      <td>0</td>\n",
              "      <td>0</td>\n",
              "      <td>0</td>\n",
              "      <td>25</td>\n",
              "      <td>187</td>\n",
              "      <td>189</td>\n",
              "      <td>...</td>\n",
              "      <td>230</td>\n",
              "      <td>237</td>\n",
              "      <td>229</td>\n",
              "      <td>0</td>\n",
              "      <td>0</td>\n",
              "      <td>1</td>\n",
              "      <td>0</td>\n",
              "      <td>0</td>\n",
              "      <td>0</td>\n",
              "      <td>0</td>\n",
              "      <td>0</td>\n",
              "      <td>0</td>\n",
              "      <td>0</td>\n",
              "      <td>0</td>\n",
              "      <td>0</td>\n",
              "      <td>0</td>\n",
              "      <td>0</td>\n",
              "      <td>0</td>\n",
              "      <td>0</td>\n",
              "      <td>0</td>\n",
              "      <td>0</td>\n",
              "      <td>68</td>\n",
              "      <td>116</td>\n",
              "      <td>112</td>\n",
              "      <td>136</td>\n",
              "      <td>147</td>\n",
              "      <td>144</td>\n",
              "      <td>121</td>\n",
              "      <td>102</td>\n",
              "      <td>63</td>\n",
              "      <td>0</td>\n",
              "      <td>0</td>\n",
              "      <td>0</td>\n",
              "      <td>0</td>\n",
              "      <td>0</td>\n",
              "      <td>0</td>\n",
              "      <td>0</td>\n",
              "      <td>0</td>\n",
              "      <td>0</td>\n",
              "      <td>0</td>\n",
              "    </tr>\n",
              "  </tbody>\n",
              "</table>\n",
              "<p>5 rows × 785 columns</p>\n",
              "</div>"
            ],
            "text/plain": [
              "   label  pixel1  pixel2  pixel3  ...  pixel781  pixel782  pixel783  pixel784\n",
              "0      2       0       0       0  ...         0         0         0         0\n",
              "1      9       0       0       0  ...         0         0         0         0\n",
              "2      6       0       0       0  ...         0         0         0         0\n",
              "3      0       0       0       0  ...         0         0         0         0\n",
              "4      3       0       0       0  ...         0         0         0         0\n",
              "\n",
              "[5 rows x 785 columns]"
            ]
          },
          "metadata": {
            "tags": []
          },
          "execution_count": 6
        }
      ]
    },
    {
      "cell_type": "markdown",
      "metadata": {
        "id": "5jEMZLmOPQ6l",
        "colab_type": "text"
      },
      "source": [
        "sebelum membuat model deep learning dan mentraining dataset, dataset perlu dieksplorasi terlebih dahulu untuk mengetahui dan memahami lebih mendalam mengenai informasi dalam dataset, sehingga dapat menentukan langkah preprocessing yang harus digunakan."
      ]
    },
    {
      "cell_type": "markdown",
      "metadata": {
        "id": "ZeBkopi7S6ab",
        "colab_type": "text"
      },
      "source": [
        "untuk mngetahui total dimensi dataset dapat dilakukan melalui"
      ]
    },
    {
      "cell_type": "code",
      "metadata": {
        "id": "WWpxaDHzOxSU",
        "colab_type": "code",
        "outputId": "4d2066f0-ef9b-4f98-f22d-5646c0e282ce",
        "colab": {
          "base_uri": "https://localhost:8080/",
          "height": 51
        }
      },
      "source": [
        "print(\"Fashion MNIST train -  rows:\",fashion_train.shape[0],\" columns:\", fashion_train.shape[1])\n",
        "\n",
        "print(\"Fashion MNIST test -  rows:\",fashion_test.shape[0],\" columns:\", fashion_test.shape[1])"
      ],
      "execution_count": 0,
      "outputs": [
        {
          "output_type": "stream",
          "text": [
            "Fashion MNIST train -  rows: 60000  columns: 785\n",
            "Fashion MNIST test -  rows: 10000  columns: 785\n"
          ],
          "name": "stdout"
        }
      ]
    },
    {
      "cell_type": "markdown",
      "metadata": {
        "id": "P6lB4IeAY4A_",
        "colab_type": "text"
      },
      "source": [
        "sedangkan label memiliki 10 kategori yaitu 0-9"
      ]
    },
    {
      "cell_type": "code",
      "metadata": {
        "id": "mseRM9QoTijf",
        "colab_type": "code",
        "outputId": "0995bf01-798a-4409-a262-116a88f50f8d",
        "colab": {
          "base_uri": "https://localhost:8080/",
          "height": 34
        }
      },
      "source": [
        "fashion_train.label.unique()"
      ],
      "execution_count": 0,
      "outputs": [
        {
          "output_type": "execute_result",
          "data": {
            "text/plain": [
              "array([2, 9, 6, 0, 3, 4, 5, 8, 7, 1])"
            ]
          },
          "metadata": {
            "tags": []
          },
          "execution_count": 9
        }
      ]
    },
    {
      "cell_type": "markdown",
      "metadata": {
        "id": "yKcGsoy3ZDtW",
        "colab_type": "text"
      },
      "source": [
        "selanjutkan , menggunakan isnull, terlihat data tidak mempunyai data kosong"
      ]
    },
    {
      "cell_type": "code",
      "metadata": {
        "id": "VxEkj2UIYzXA",
        "colab_type": "code",
        "outputId": "51ab71dd-4cca-4803-c1fa-d1d32f746a37",
        "colab": {
          "base_uri": "https://localhost:8080/",
          "height": 34
        }
      },
      "source": [
        "#train\n",
        "fashion_train.isnull().any().sum()"
      ],
      "execution_count": 0,
      "outputs": [
        {
          "output_type": "execute_result",
          "data": {
            "text/plain": [
              "0"
            ]
          },
          "metadata": {
            "tags": []
          },
          "execution_count": 11
        }
      ]
    },
    {
      "cell_type": "code",
      "metadata": {
        "id": "9pShT_BBZQ1C",
        "colab_type": "code",
        "outputId": "7da5d2a9-5977-4efc-83a1-17b24f2fc152",
        "colab": {
          "base_uri": "https://localhost:8080/",
          "height": 34
        }
      },
      "source": [
        "#test\n",
        "fashion_test.isnull().any().sum()"
      ],
      "execution_count": 0,
      "outputs": [
        {
          "output_type": "execute_result",
          "data": {
            "text/plain": [
              "0"
            ]
          },
          "metadata": {
            "tags": []
          },
          "execution_count": 12
        }
      ]
    },
    {
      "cell_type": "markdown",
      "metadata": {
        "id": "Dsspm0LWZgdb",
        "colab_type": "text"
      },
      "source": [
        "Kemudian, menggunakan value counts,  data dianalisis apakah ada ktidakseimbangan dalam persebaran data terhadap label, dan didapatkan data yang seimbang"
      ]
    },
    {
      "cell_type": "code",
      "metadata": {
        "id": "58xsh8pVZZ3R",
        "colab_type": "code",
        "outputId": "a86cdc43-41d0-479d-ec96-380926f6a982",
        "colab": {
          "base_uri": "https://localhost:8080/",
          "height": 204
        }
      },
      "source": [
        "#train\n",
        "fashion_train['label'].value_counts()"
      ],
      "execution_count": 0,
      "outputs": [
        {
          "output_type": "execute_result",
          "data": {
            "text/plain": [
              "9    6000\n",
              "8    6000\n",
              "7    6000\n",
              "6    6000\n",
              "5    6000\n",
              "4    6000\n",
              "3    6000\n",
              "2    6000\n",
              "1    6000\n",
              "0    6000\n",
              "Name: label, dtype: int64"
            ]
          },
          "metadata": {
            "tags": []
          },
          "execution_count": 13
        }
      ]
    },
    {
      "cell_type": "code",
      "metadata": {
        "id": "aKl4USCGaRfv",
        "colab_type": "code",
        "outputId": "555eaebe-0098-4db8-a25b-ef15689f4587",
        "colab": {
          "base_uri": "https://localhost:8080/",
          "height": 204
        }
      },
      "source": [
        "#test\n",
        "fashion_test['label'].value_counts()"
      ],
      "execution_count": 0,
      "outputs": [
        {
          "output_type": "execute_result",
          "data": {
            "text/plain": [
              "7    1000\n",
              "6    1000\n",
              "5    1000\n",
              "4    1000\n",
              "3    1000\n",
              "2    1000\n",
              "9    1000\n",
              "1    1000\n",
              "8    1000\n",
              "0    1000\n",
              "Name: label, dtype: int64"
            ]
          },
          "metadata": {
            "tags": []
          },
          "execution_count": 14
        }
      ]
    },
    {
      "cell_type": "markdown",
      "metadata": {
        "id": "W3m07EvEbLn-",
        "colab_type": "text"
      },
      "source": [
        "lebih lengkapnya"
      ]
    },
    {
      "cell_type": "code",
      "metadata": {
        "id": "dSblSOo3aZsw",
        "colab_type": "code",
        "outputId": "90762c20-a2aa-45fe-f983-9ce8cebf6287",
        "colab": {
          "base_uri": "https://localhost:8080/",
          "height": 425
        }
      },
      "source": [
        "labels = {0: 'T-shirt/top', 1: 'Trouser', 2: 'Pullover', 3: 'Dress', 4: 'Coat', 5: 'Sandal', 6: 'Shirt', 7: 'Sneaker', 8: 'Bag', 9: 'Angkle Boot'}\n",
        "\n",
        "def distribusi_kelas(data):\n",
        "  counts = data['label'].value_counts() #menghitung jumlah nilai data pada setiap label\n",
        "  total = len(data)\n",
        "  \n",
        "  for i in range(len(counts)):\n",
        "    label = labels[counts.index[i]] #mengambil label pada index i\n",
        "    count = counts.values[i] #mengambil jumlah data dari label i\n",
        "    percent = (count/total) * 100\n",
        "    print ( ' {:<20s}: {} or {}%'.format(label,count, percent))\n",
        "    \n",
        "print(' distribusi fashion_train')\n",
        "distribusi_kelas(fashion_train)\n",
        "print('\\n')\n",
        "print(' distribusi fashion_test')\n",
        "distribusi_kelas(fashion_test)"
      ],
      "execution_count": 0,
      "outputs": [
        {
          "output_type": "stream",
          "text": [
            " distribusi fashion_train\n",
            " Angkle Boot         : 6000 or 10.0%\n",
            " Bag                 : 6000 or 10.0%\n",
            " Sneaker             : 6000 or 10.0%\n",
            " Shirt               : 6000 or 10.0%\n",
            " Sandal              : 6000 or 10.0%\n",
            " Coat                : 6000 or 10.0%\n",
            " Dress               : 6000 or 10.0%\n",
            " Pullover            : 6000 or 10.0%\n",
            " Trouser             : 6000 or 10.0%\n",
            " T-shirt/top         : 6000 or 10.0%\n",
            "\n",
            "\n",
            " distribusi fashion_test\n",
            " Sneaker             : 1000 or 10.0%\n",
            " Shirt               : 1000 or 10.0%\n",
            " Sandal              : 1000 or 10.0%\n",
            " Coat                : 1000 or 10.0%\n",
            " Dress               : 1000 or 10.0%\n",
            " Pullover            : 1000 or 10.0%\n",
            " Angkle Boot         : 1000 or 10.0%\n",
            " Trouser             : 1000 or 10.0%\n",
            " Bag                 : 1000 or 10.0%\n",
            " T-shirt/top         : 1000 or 10.0%\n"
          ],
          "name": "stdout"
        }
      ]
    },
    {
      "cell_type": "markdown",
      "metadata": {
        "id": "ziUhOyr3kXrr",
        "colab_type": "text"
      },
      "source": [
        "untuk secara lebih dekat gambar dari dataset kita bisa melakukan sebagi berikut"
      ]
    },
    {
      "cell_type": "code",
      "metadata": {
        "id": "m9l7DephcORE",
        "colab_type": "code",
        "outputId": "dcdd52ef-15fc-4157-f195-6c759790cf64",
        "colab": {
          "base_uri": "https://localhost:8080/",
          "height": 645
        }
      },
      "source": [
        "def random_images(data):\n",
        "  fig, axes = plt.subplots(4, 4, figsize = (10,10))\n",
        "  for row in axes:\n",
        "     for axe in row:\n",
        "        index = np.random.randint(data.shape[0]) #mengambil index secara random sesuai dengan jumlah data\n",
        "        img = data.drop('label', axis=1).values[index].reshape(28,28) #label dihilangkan lalu ambil nilai berdasarkan index dan direshape ke ukuran 28 x 28\n",
        "        cloths = data['label'][index] #mengambil data label berdasarkan index\n",
        "        axe.imshow(img, cmap='gray')\n",
        "        axe.set_title(labels[cloths])\n",
        "        axe.set_axis_off()\n",
        "\n",
        "print('fashion_train')\n",
        "random_images(fashion_train)\n",
        "\n"
      ],
      "execution_count": 0,
      "outputs": [
        {
          "output_type": "stream",
          "text": [
            "fashion_train\n"
          ],
          "name": "stdout"
        },
        {
          "output_type": "display_data",
          "data": {
            "image/png": "[encoded data removed]",
            "text/plain": [
              "<Figure size 720x720 with 16 Axes>"
            ]
          },
          "metadata": {
            "tags": []
          }
        }
      ]
    },
    {
      "cell_type": "markdown",
      "metadata": {
        "id": "h3cWAhU2mVlB",
        "colab_type": "text"
      },
      "source": [
        "sedangkan untuk data fashion_test"
      ]
    },
    {
      "cell_type": "code",
      "metadata": {
        "id": "KmTcgRnqgbed",
        "colab_type": "code",
        "outputId": "df2f7324-efde-4710-941e-258f346c0505",
        "colab": {
          "base_uri": "https://localhost:8080/",
          "height": 645
        }
      },
      "source": [
        "print('fashion_test')\n",
        "random_images(fashion_test)"
      ],
      "execution_count": 0,
      "outputs": [
        {
          "output_type": "stream",
          "text": [
            "fashion_test\n"
          ],
          "name": "stdout"
        },
        {
          "output_type": "display_data",
          "data": {
            "image/png": "[encoded data removed]",
            "text/plain": [
              "<Figure size 720x720 with 16 Axes>"
            ]
          },
          "metadata": {
            "tags": []
          }
        }
      ]
    },
    {
      "cell_type": "markdown",
      "metadata": {
        "id": "0igmUITbmdCt",
        "colab_type": "text"
      },
      "source": [
        "#PREPROCESSING DATA"
      ]
    },
    {
      "cell_type": "markdown",
      "metadata": {
        "id": "dcedN0LMmueo",
        "colab_type": "text"
      },
      "source": [
        "setelah melihat data, selanjutnya dilakukan preprocessing data sebelum melakukan training,\n",
        "\n",
        "karena data tidak ada yang kosong, maka tidak perlu tahap memasukkan data seperti mean dan median, selain itu karena data seimbang maka tidak perlu ada langkah untuk mengatasi data tidak seimbang"
      ]
    },
    {
      "cell_type": "markdown",
      "metadata": {
        "id": "arinNeN2XRkc",
        "colab_type": "text"
      },
      "source": [
        "untuk tahap awal preprocessing data adalah sebagai berikut:\n",
        "\n",
        "1. data dalam kolom label dilakukan one hot encoding\n",
        "\n",
        "2. data selain kolom label dirubah menjadi bentuk array agar dapat dimasukkan ke dalam input\n",
        "\n",
        "2. data  array tersebut kemudian di reshape menjadi ukuran 28 x 28 x 1 untuk nanti digunakan dalam input model, nilai 1 menunjukkan channel 1 karena data berupa grayscale.\n",
        "\n",
        "3. selanjutnya data dirubah dalam bentuk float, hal ini dilakukan agar tidak terjadi pembulatan angka misal angka 0,22 menjadi nilai 0\n",
        "\n",
        "4.  terakhir dilakukan rescale membagi dengan 255 adalah dengan mengubah setiap nilai pixel dari jangkauan [0,255] menjadi [0,1]"
      ]
    },
    {
      "cell_type": "code",
      "metadata": {
        "id": "V86qpcbJmScS",
        "colab_type": "code",
        "colab": {}
      },
      "source": [
        "def preprocessing_data(data):\n",
        "  y = to_categorical(data.label, num_classes)\n",
        "  jumlah_images = data.shape[0]\n",
        "  array_x = data.values[:,1:]\n",
        "  shaped_array_x = array_x.reshape(jumlah_images, img_rows, img_cols, 1)\n",
        "  x = shaped_array_x.astype('float32')/255\n",
        "  return x, y\n",
        "\n",
        "X, y = preprocessing_data(fashion_train)\n",
        "test_X, test_y = preprocessing_data(fashion_test)\n",
        "  "
      ],
      "execution_count": 0,
      "outputs": []
    },
    {
      "cell_type": "code",
      "metadata": {
        "id": "TW5zEEyqYWhf",
        "colab_type": "code",
        "outputId": "c66994fc-c6f1-4f8d-a580-641a513370ee",
        "colab": {
          "base_uri": "https://localhost:8080/",
          "height": 1000
        }
      },
      "source": [
        "X[0:5]"
      ],
      "execution_count": 0,
      "outputs": [
        {
          "output_type": "execute_result",
          "data": {
            "text/plain": [
              "array([[[[0.],\n",
              "         [0.],\n",
              "         [0.],\n",
              "         ...,\n",
              "         [0.],\n",
              "         [0.],\n",
              "         [0.]],\n",
              "\n",
              "        [[0.],\n",
              "         [0.],\n",
              "         [0.],\n",
              "         ...,\n",
              "         [0.],\n",
              "         [0.],\n",
              "         [0.]],\n",
              "\n",
              "        [[0.],\n",
              "         [0.],\n",
              "         [0.],\n",
              "         ...,\n",
              "         [0.],\n",
              "         [0.],\n",
              "         [0.]],\n",
              "\n",
              "        ...,\n",
              "\n",
              "        [[0.],\n",
              "         [0.],\n",
              "         [0.],\n",
              "         ...,\n",
              "         [0.],\n",
              "         [0.],\n",
              "         [0.]],\n",
              "\n",
              "        [[0.],\n",
              "         [0.],\n",
              "         [0.],\n",
              "         ...,\n",
              "         [0.],\n",
              "         [0.],\n",
              "         [0.]],\n",
              "\n",
              "        [[0.],\n",
              "         [0.],\n",
              "         [0.],\n",
              "         ...,\n",
              "         [0.],\n",
              "         [0.],\n",
              "         [0.]]],\n",
              "\n",
              "\n",
              "       [[[0.],\n",
              "         [0.],\n",
              "         [0.],\n",
              "         ...,\n",
              "         [0.],\n",
              "         [0.],\n",
              "         [0.]],\n",
              "\n",
              "        [[0.],\n",
              "         [0.],\n",
              "         [0.],\n",
              "         ...,\n",
              "         [0.],\n",
              "         [0.],\n",
              "         [0.]],\n",
              "\n",
              "        [[0.],\n",
              "         [0.],\n",
              "         [0.],\n",
              "         ...,\n",
              "         [0.],\n",
              "         [0.],\n",
              "         [0.]],\n",
              "\n",
              "        ...,\n",
              "\n",
              "        [[0.],\n",
              "         [0.],\n",
              "         [0.],\n",
              "         ...,\n",
              "         [0.],\n",
              "         [0.],\n",
              "         [0.]],\n",
              "\n",
              "        [[0.],\n",
              "         [0.],\n",
              "         [0.],\n",
              "         ...,\n",
              "         [0.],\n",
              "         [0.],\n",
              "         [0.]],\n",
              "\n",
              "        [[0.],\n",
              "         [0.],\n",
              "         [0.],\n",
              "         ...,\n",
              "         [0.],\n",
              "         [0.],\n",
              "         [0.]]],\n",
              "\n",
              "\n",
              "       [[[0.],\n",
              "         [0.],\n",
              "         [0.],\n",
              "         ...,\n",
              "         [0.],\n",
              "         [0.],\n",
              "         [0.]],\n",
              "\n",
              "        [[0.],\n",
              "         [0.],\n",
              "         [0.],\n",
              "         ...,\n",
              "         [0.],\n",
              "         [0.],\n",
              "         [0.]],\n",
              "\n",
              "        [[0.],\n",
              "         [0.],\n",
              "         [0.],\n",
              "         ...,\n",
              "         [0.],\n",
              "         [0.],\n",
              "         [0.]],\n",
              "\n",
              "        ...,\n",
              "\n",
              "        [[0.],\n",
              "         [0.],\n",
              "         [0.],\n",
              "         ...,\n",
              "         [0.],\n",
              "         [0.],\n",
              "         [0.]],\n",
              "\n",
              "        [[0.],\n",
              "         [0.],\n",
              "         [0.],\n",
              "         ...,\n",
              "         [0.],\n",
              "         [0.],\n",
              "         [0.]],\n",
              "\n",
              "        [[0.],\n",
              "         [0.],\n",
              "         [0.],\n",
              "         ...,\n",
              "         [0.],\n",
              "         [0.],\n",
              "         [0.]]],\n",
              "\n",
              "\n",
              "       [[[0.],\n",
              "         [0.],\n",
              "         [0.],\n",
              "         ...,\n",
              "         [0.],\n",
              "         [0.],\n",
              "         [0.]],\n",
              "\n",
              "        [[0.],\n",
              "         [0.],\n",
              "         [0.],\n",
              "         ...,\n",
              "         [0.],\n",
              "         [0.],\n",
              "         [0.]],\n",
              "\n",
              "        [[0.],\n",
              "         [0.],\n",
              "         [0.],\n",
              "         ...,\n",
              "         [0.],\n",
              "         [0.],\n",
              "         [0.]],\n",
              "\n",
              "        ...,\n",
              "\n",
              "        [[0.],\n",
              "         [0.],\n",
              "         [0.],\n",
              "         ...,\n",
              "         [0.],\n",
              "         [0.],\n",
              "         [0.]],\n",
              "\n",
              "        [[0.],\n",
              "         [0.],\n",
              "         [0.],\n",
              "         ...,\n",
              "         [0.],\n",
              "         [0.],\n",
              "         [0.]],\n",
              "\n",
              "        [[0.],\n",
              "         [0.],\n",
              "         [0.],\n",
              "         ...,\n",
              "         [0.],\n",
              "         [0.],\n",
              "         [0.]]],\n",
              "\n",
              "\n",
              "       [[[0.],\n",
              "         [0.],\n",
              "         [0.],\n",
              "         ...,\n",
              "         [0.],\n",
              "         [0.],\n",
              "         [0.]],\n",
              "\n",
              "        [[0.],\n",
              "         [0.],\n",
              "         [0.],\n",
              "         ...,\n",
              "         [0.],\n",
              "         [0.],\n",
              "         [0.]],\n",
              "\n",
              "        [[0.],\n",
              "         [0.],\n",
              "         [0.],\n",
              "         ...,\n",
              "         [0.],\n",
              "         [0.],\n",
              "         [0.]],\n",
              "\n",
              "        ...,\n",
              "\n",
              "        [[0.],\n",
              "         [0.],\n",
              "         [0.],\n",
              "         ...,\n",
              "         [0.],\n",
              "         [0.],\n",
              "         [0.]],\n",
              "\n",
              "        [[0.],\n",
              "         [0.],\n",
              "         [0.],\n",
              "         ...,\n",
              "         [0.],\n",
              "         [0.],\n",
              "         [0.]],\n",
              "\n",
              "        [[0.],\n",
              "         [0.],\n",
              "         [0.],\n",
              "         ...,\n",
              "         [0.],\n",
              "         [0.],\n",
              "         [0.]]]], dtype=float32)"
            ]
          },
          "metadata": {
            "tags": []
          },
          "execution_count": 11
        }
      ]
    },
    {
      "cell_type": "code",
      "metadata": {
        "id": "uRObPoOJa99o",
        "colab_type": "code",
        "outputId": "6a1c2db6-ec05-48d3-da81-431541812a60",
        "colab": {
          "base_uri": "https://localhost:8080/",
          "height": 102
        }
      },
      "source": [
        "y[0:5]"
      ],
      "execution_count": 0,
      "outputs": [
        {
          "output_type": "execute_result",
          "data": {
            "text/plain": [
              "array([[0., 0., 1., 0., 0., 0., 0., 0., 0., 0.],\n",
              "       [0., 0., 0., 0., 0., 0., 0., 0., 0., 1.],\n",
              "       [0., 0., 0., 0., 0., 0., 1., 0., 0., 0.],\n",
              "       [1., 0., 0., 0., 0., 0., 0., 0., 0., 0.],\n",
              "       [0., 0., 0., 1., 0., 0., 0., 0., 0., 0.]], dtype=float32)"
            ]
          },
          "metadata": {
            "tags": []
          },
          "execution_count": 12
        }
      ]
    },
    {
      "cell_type": "markdown",
      "metadata": {
        "id": "fpH_-c4Dclm_",
        "colab_type": "text"
      },
      "source": [
        "A. SPLIT DATA MENJADI DATA TRAIN DAN DATA VALIDASI\n",
        "\n",
        "Bagian data fashion_train(x,y), di split menjadi data train dan data validasi.\n",
        "\n",
        "data train digunakan untuk melatih model yang dibuat dan data validasi digunakan untuk mengevaluasi peforma model yang dibuat terhadap dataset"
      ]
    },
    {
      "cell_type": "code",
      "metadata": {
        "id": "G0N1x1rcbBFU",
        "colab_type": "code",
        "colab": {}
      },
      "source": [
        "X_train, X_val, y_train, y_val = train_test_split(X, y, test_size = test_size, random_state = random_state)"
      ],
      "execution_count": 0,
      "outputs": []
    },
    {
      "cell_type": "markdown",
      "metadata": {
        "id": "PDw9l6OVdRkH",
        "colab_type": "text"
      },
      "source": [
        "dari split diatas, didapatkan dimensi data sebagai berikut"
      ]
    },
    {
      "cell_type": "code",
      "metadata": {
        "id": "M1vxd6OOdOFC",
        "colab_type": "code",
        "outputId": "dc4d30d2-e007-4ea0-967a-55824a95b0b3",
        "colab": {
          "base_uri": "https://localhost:8080/",
          "height": 68
        }
      },
      "source": [
        "#dimension\n",
        "print('Fashion MNIST train - rows:', X_train.shape[0], ' columns:', X_train.shape[1:4])\n",
        "print('Fashion MNIST valid - rows:', X_val.shape[0], ' columns:', X_val.shape[1:4])\n",
        "print('Fashion MNIST test - rows:', test_X.shape[0], ' columns:', test_X.shape[1:4])"
      ],
      "execution_count": 0,
      "outputs": [
        {
          "output_type": "stream",
          "text": [
            "Fashion MNIST train - rows: 48000  columns: (28, 28, 1)\n",
            "Fashion MNIST valid - rows: 12000  columns: (28, 28, 1)\n",
            "Fashion MNIST test - rows: 10000  columns: (28, 28, 1)\n"
          ],
          "name": "stdout"
        }
      ]
    },
    {
      "cell_type": "markdown",
      "metadata": {
        "id": "auYutw1tdk-W",
        "colab_type": "text"
      },
      "source": [
        "#MELATIH MODEL DEEP LEARNING"
      ]
    },
    {
      "cell_type": "markdown",
      "metadata": {
        "id": "XAVDAs3EQrwG",
        "colab_type": "text"
      },
      "source": [
        "A. MEMBANGUN ARSITEKTUR CNN\n",
        "\n",
        "1. Pertama, kita gunakan model Sequential keras yang mana merupakan bentuk linear dari layers\n",
        "\n",
        "2. kemudian kita memasukkan layer konvolusi, layer konvolusi diatur dimana kedalamannya sama dengan input, jumlah kernelnya sebanyak 32 dengan ukuran kernelnya 3,3 dan aktivasi menggunakan relu yang bertujuan melakukan 'treshold' dari 0  hingga infinity untuk setiap data (jika ada nilai negatif dirubah menjadi 0), lalu kernel_initializer untuk mengatur cara weight mendapatkan nilai, padding = 'same' yang berarti tidak ada penambahan matrix pada input dan terakhir dimasukkan inputnya\n",
        "\n",
        "3. pada tahap konvolusi kedua, digunakan kernel dengan jumlah 5 x 5 dengan jumlah kernelnya 32 dengan padding = 'same' dan aktivation relu\n",
        "\n",
        "4. tahap ketiga dimasukkan layer average pooling, dimana merupakan proses mengurangi dimensi dari feature map(downsampling) dimana sizenya (2,2), averagePooling berarti yang masuk ke layer selanjutnya merupakan rata2x yang data yang dipooling, terakhir , strides merupakan hal yang mengatur bagaimana layer pooling bergerak, (2,2) berarti pooling bergerak sebanyak 2 height dan 2 weight.\n",
        "\n",
        "5. untuk menghindari overfitting kita memasukkan dropout dengan rate 0,5\n",
        "\n",
        "6. dilakukan konvolusi kembali dengan jumlah layer 64, yang kemudian diikuti average pooling dan dropout dengan pengaturan yang sama\n",
        "\n",
        "7. data lalu diflatten dan dijadikan satu dimensi array\n",
        "\n",
        "8. dimasukkan layer dengan jumlah 1024 dengan activasi relu dan dilanjutkan dengan dropout dengan rate =0.7\n",
        "\n",
        "9. terakhir  Fully Connected (*10 layer) dan aktivasi softmax, biasa digunakan dalam multiclass"
      ]
    },
    {
      "cell_type": "code",
      "metadata": {
        "id": "QXblDM7rdfo6",
        "colab_type": "code",
        "outputId": "236465a7-56ae-459e-ec3e-571c452a00e3",
        "colab": {
          "base_uri": "https://localhost:8080/",
          "height": 54
        }
      },
      "source": [
        "# Model\n",
        "\n",
        "# Model\n",
        "model = Sequential()\n",
        "# Add convolution 2D\n",
        "model.add(Conv2D(32, kernel_size=(3, 3),\n",
        "                 padding='same',\n",
        "                 activation=tf.nn.relu,\n",
        "                 kernel_initializer='he_normal', #mengambil sampel menggunakan bentuk distribusi normal\n",
        "                 input_shape=(img_rows, img_cols, 1)))\n",
        "model.add(Conv2D(32, kernel_size=(5, 5),\n",
        "                 padding='same',\n",
        "                 activation=tf.nn.relu))\n",
        "model.add(AveragePooling2D((2, 2), strides=(2,2), padding='same')) #karena maxpooling digunakan untuk features yang extreme, kontras, average memperjelas bentuk gambar\n",
        "model.add(Dropout(0.5))\n",
        "model.add(Conv2D(64, \n",
        "                 kernel_size=(5, 5),\n",
        "                 padding='same',\n",
        "                 activation=tf.nn.relu))\n",
        "model.add(AveragePooling2D((2, 2), strides=(2,2), padding='same'))\n",
        "model.add(Dropout(0.5))\n",
        "model.add(Flatten())\n",
        "model.add(Dense(1024, activation=tf.nn.relu))\n",
        "model.add(Dropout(0.7))\n",
        "model.add(Dense(num_classes, activation=tf.nn.softmax)) #aktivasi menggunakan softmax karena outputnya merupakan multiclass\n",
        "\n",
        "\n",
        "model.compile(loss=keras.losses.categorical_crossentropy,\n",
        "              optimizer='adam',\n",
        "              metrics=['accuracy'])"
      ],
      "execution_count": 0,
      "outputs": [
        {
          "output_type": "stream",
          "text": [
            "W0820 15:00:17.827371 139926776895360 nn_ops.py:4224] Large dropout rate: 0.7 (>0.5). In TensorFlow 2.x, dropout() uses dropout rate instead of keep_prob. Please ensure that this is intended.\n"
          ],
          "name": "stderr"
        }
      ]
    },
    {
      "cell_type": "markdown",
      "metadata": {
        "id": "9OpcKQC-YlfB",
        "colab_type": "text"
      },
      "source": [
        "untuk compile model diatas, kita menggunakan 'categorical_crosentropy' untuk menghitung loss pada klasifikasi multiclass, optimizer adam dan accuracy untuk mengevaluasi akurasi dari model yang dibuat"
      ]
    },
    {
      "cell_type": "code",
      "metadata": {
        "id": "ZP2wEqwzhkGT",
        "colab_type": "code",
        "outputId": "7eb2cde8-d135-4834-a114-5179550449be",
        "colab": {
          "base_uri": "https://localhost:8080/",
          "height": 527
        }
      },
      "source": [
        "model.summary()"
      ],
      "execution_count": 0,
      "outputs": [
        {
          "output_type": "stream",
          "text": [
            "Model: \"sequential\"\n",
            "_________________________________________________________________\n",
            "Layer (type)                 Output Shape              Param #   \n",
            "=================================================================\n",
            "conv2d (Conv2D)              (None, 28, 28, 32)        320       \n",
            "_________________________________________________________________\n",
            "conv2d_1 (Conv2D)            (None, 28, 28, 32)        25632     \n",
            "_________________________________________________________________\n",
            "average_pooling2d (AveragePo (None, 14, 14, 32)        0         \n",
            "_________________________________________________________________\n",
            "dropout (Dropout)            (None, 14, 14, 32)        0         \n",
            "_________________________________________________________________\n",
            "conv2d_2 (Conv2D)            (None, 14, 14, 64)        51264     \n",
            "_________________________________________________________________\n",
            "average_pooling2d_1 (Average (None, 7, 7, 64)          0         \n",
            "_________________________________________________________________\n",
            "dropout_1 (Dropout)          (None, 7, 7, 64)          0         \n",
            "_________________________________________________________________\n",
            "flatten (Flatten)            (None, 3136)              0         \n",
            "_________________________________________________________________\n",
            "dense (Dense)                (None, 1024)              3212288   \n",
            "_________________________________________________________________\n",
            "dropout_2 (Dropout)          (None, 1024)              0         \n",
            "_________________________________________________________________\n",
            "dense_1 (Dense)              (None, 10)                10250     \n",
            "=================================================================\n",
            "Total params: 3,299,754\n",
            "Trainable params: 3,299,754\n",
            "Non-trainable params: 0\n",
            "_________________________________________________________________\n"
          ],
          "name": "stdout"
        }
      ]
    },
    {
      "cell_type": "markdown",
      "metadata": {
        "id": "QSscvuhGKIDq",
        "colab_type": "text"
      },
      "source": [
        "model yang telah dibuat difit kan dengan dengan data training, \n",
        "\n",
        "batch sizenya sebesar 128 maka ketika proses training data, akan diambil sebanyak 128 data secara random dari semua sample dataset untuk setiap epoch(iterasi) hingga semua epoch memenuhi batas sampelnya"
      ]
    },
    {
      "cell_type": "code",
      "metadata": {
        "id": "6pwCSPlXdpzO",
        "colab_type": "code",
        "outputId": "ccc58bb3-71d2-4ac6-cec9-9ea77c35d5e2",
        "colab": {
          "base_uri": "https://localhost:8080/",
          "height": 1000
        }
      },
      "source": [
        "#run the model\n",
        "train_model=model.fit(X_train, y_train, #data training\n",
        "                     batch_size = batch_size, #jumalh batch\n",
        "                     epochs = epochs, #jumlah iterasi, epoch=30 berarti akan dilakukan pembelajaran(iterasi) berulang sampai 30 kali\n",
        "                     verbose=1, # untuk menampilkan nilai accuracy dan loss\n",
        "                     validation_data = (X_val, y_val)) #data untuk mengevaluasi model"
      ],
      "execution_count": 0,
      "outputs": [
        {
          "output_type": "stream",
          "text": [
            "Train on 48000 samples, validate on 12000 samples\n",
            "Epoch 1/30\n",
            "48000/48000 [==============================] - 9s 181us/sample - loss: 0.6145 - acc: 0.7761 - val_loss: 0.3680 - val_acc: 0.8716\n",
            "Epoch 2/30\n",
            "48000/48000 [==============================] - 8s 173us/sample - loss: 0.4048 - acc: 0.8523 - val_loss: 0.3149 - val_acc: 0.8859\n",
            "Epoch 3/30\n",
            "48000/48000 [==============================] - 8s 174us/sample - loss: 0.3488 - acc: 0.8712 - val_loss: 0.2860 - val_acc: 0.9006\n",
            "Epoch 4/30\n",
            "48000/48000 [==============================] - 8s 173us/sample - loss: 0.3157 - acc: 0.8840 - val_loss: 0.2540 - val_acc: 0.9055\n",
            "Epoch 5/30\n",
            "48000/48000 [==============================] - 8s 173us/sample - loss: 0.2947 - acc: 0.8901 - val_loss: 0.2483 - val_acc: 0.9100\n",
            "Epoch 6/30\n",
            "48000/48000 [==============================] - 8s 173us/sample - loss: 0.2774 - acc: 0.8974 - val_loss: 0.2357 - val_acc: 0.9148\n",
            "Epoch 7/30\n",
            "48000/48000 [==============================] - 8s 173us/sample - loss: 0.2637 - acc: 0.9039 - val_loss: 0.2276 - val_acc: 0.9203\n",
            "Epoch 8/30\n",
            "48000/48000 [==============================] - 8s 174us/sample - loss: 0.2541 - acc: 0.9062 - val_loss: 0.2175 - val_acc: 0.9183\n",
            "Epoch 9/30\n",
            "48000/48000 [==============================] - 8s 174us/sample - loss: 0.2430 - acc: 0.9098 - val_loss: 0.2273 - val_acc: 0.9184\n",
            "Epoch 10/30\n",
            "48000/48000 [==============================] - 8s 174us/sample - loss: 0.2418 - acc: 0.9097 - val_loss: 0.2161 - val_acc: 0.9222\n",
            "Epoch 11/30\n",
            "48000/48000 [==============================] - 8s 175us/sample - loss: 0.2313 - acc: 0.9135 - val_loss: 0.1977 - val_acc: 0.9305\n",
            "Epoch 12/30\n",
            "48000/48000 [==============================] - 9s 183us/sample - loss: 0.2255 - acc: 0.9167 - val_loss: 0.2001 - val_acc: 0.9274\n",
            "Epoch 13/30\n",
            "48000/48000 [==============================] - 8s 174us/sample - loss: 0.2208 - acc: 0.9183 - val_loss: 0.2000 - val_acc: 0.9302\n",
            "Epoch 14/30\n",
            "48000/48000 [==============================] - 8s 177us/sample - loss: 0.2154 - acc: 0.9200 - val_loss: 0.1938 - val_acc: 0.9325\n",
            "Epoch 15/30\n",
            "48000/48000 [==============================] - 8s 174us/sample - loss: 0.2127 - acc: 0.9202 - val_loss: 0.1917 - val_acc: 0.9331\n",
            "Epoch 16/30\n",
            "48000/48000 [==============================] - 8s 175us/sample - loss: 0.2081 - acc: 0.9221 - val_loss: 0.1933 - val_acc: 0.9305\n",
            "Epoch 17/30\n",
            "48000/48000 [==============================] - 9s 178us/sample - loss: 0.2061 - acc: 0.9237 - val_loss: 0.1876 - val_acc: 0.9332\n",
            "Epoch 18/30\n",
            "48000/48000 [==============================] - 9s 179us/sample - loss: 0.1994 - acc: 0.9251 - val_loss: 0.1934 - val_acc: 0.9304\n",
            "Epoch 19/30\n",
            "48000/48000 [==============================] - 8s 174us/sample - loss: 0.1975 - acc: 0.9271 - val_loss: 0.1833 - val_acc: 0.9340\n",
            "Epoch 20/30\n",
            "48000/48000 [==============================] - 9s 179us/sample - loss: 0.1946 - acc: 0.9278 - val_loss: 0.1877 - val_acc: 0.9337\n",
            "Epoch 21/30\n",
            "48000/48000 [==============================] - 9s 181us/sample - loss: 0.1932 - acc: 0.9289 - val_loss: 0.1959 - val_acc: 0.9302\n",
            "Epoch 22/30\n",
            "48000/48000 [==============================] - 9s 182us/sample - loss: 0.1876 - acc: 0.9303 - val_loss: 0.1921 - val_acc: 0.9308\n",
            "Epoch 23/30\n",
            "48000/48000 [==============================] - 9s 182us/sample - loss: 0.1877 - acc: 0.9301 - val_loss: 0.1841 - val_acc: 0.9356\n",
            "Epoch 24/30\n",
            "48000/48000 [==============================] - 9s 179us/sample - loss: 0.1882 - acc: 0.9301 - val_loss: 0.1779 - val_acc: 0.9374\n",
            "Epoch 25/30\n",
            "48000/48000 [==============================] - 9s 181us/sample - loss: 0.1831 - acc: 0.9323 - val_loss: 0.1779 - val_acc: 0.9370\n",
            "Epoch 26/30\n",
            "48000/48000 [==============================] - 9s 184us/sample - loss: 0.1793 - acc: 0.9335 - val_loss: 0.1809 - val_acc: 0.9361\n",
            "Epoch 27/30\n",
            "48000/48000 [==============================] - 9s 186us/sample - loss: 0.1792 - acc: 0.9331 - val_loss: 0.1777 - val_acc: 0.9357\n",
            "Epoch 28/30\n",
            "48000/48000 [==============================] - 9s 185us/sample - loss: 0.1765 - acc: 0.9340 - val_loss: 0.1774 - val_acc: 0.9365\n",
            "Epoch 29/30\n",
            "48000/48000 [==============================] - 9s 183us/sample - loss: 0.1736 - acc: 0.9356 - val_loss: 0.1744 - val_acc: 0.9389\n",
            "Epoch 30/30\n",
            "48000/48000 [==============================] - 9s 183us/sample - loss: 0.1738 - acc: 0.9340 - val_loss: 0.1754 - val_acc: 0.9374\n"
          ],
          "name": "stdout"
        }
      ]
    },
    {
      "cell_type": "markdown",
      "metadata": {
        "id": "jXt0M2zJZ_qx",
        "colab_type": "text"
      },
      "source": [
        "dari iterasi diatas, didapatkan nilai akurasi training sebesar 0,9340, sedangkan nilai akurasi validasi 0.9374.\n",
        "\n",
        "terakhir pada prediksi menggunakan data testing (seperti yang ditunjukkan dibawah) didapatkan akurasi sebesar 0.9371 yang menunjukkan tidak terjadi overfitting pada model"
      ]
    },
    {
      "cell_type": "code",
      "metadata": {
        "id": "0ZKmVtgWdtum",
        "colab_type": "code",
        "outputId": "43bf2c00-8307-4a62-fb77-b786a02634c1",
        "colab": {
          "base_uri": "https://localhost:8080/",
          "height": 51
        }
      },
      "source": [
        "#test prediction accuracy\n",
        "score = model.evaluate(test_X, test_y, verbose=0)\n",
        "print('Test loss:', score[0])\n",
        "print('Test accuracy:', score[1])"
      ],
      "execution_count": 0,
      "outputs": [
        {
          "output_type": "stream",
          "text": [
            "Test loss: 0.16749244595468044\n",
            "Test accuracy: 0.9371\n"
          ],
          "name": "stdout"
        }
      ]
    },
    {
      "cell_type": "markdown",
      "metadata": {
        "id": "D_6qaI4T4aAf",
        "colab_type": "text"
      },
      "source": [
        "Training dan Validation Loss & Accuracy\n",
        "\n",
        "proses dimana pengecek overfiting, underfitting, dan Just Right\n",
        "Overfitting jika : training loss >> validation loss\n",
        "Underfitting jika : training loss << validation loss\n",
        "Just right jika training loss ~ validation loss\n"
      ]
    },
    {
      "cell_type": "code",
      "metadata": {
        "id": "lYvuVBe2ffcl",
        "colab_type": "code",
        "outputId": "ccab7bc6-11d3-41da-e3d5-faf8e25080ba",
        "colab": {
          "base_uri": "https://localhost:8080/",
          "height": 295
        }
      },
      "source": [
        "loss = train_model.history['loss']\n",
        "val_loss = train_model.history['val_loss']\n",
        "epochss = range(1, len(loss) + 1)\n",
        "plt.plot(epochss, loss, color='black', label='Training loss')\n",
        "plt.plot(epochss, val_loss, color='blue', label='Validation loss')\n",
        "plt.title('Training and validation loss')\n",
        "plt.xlabel('Epochs')\n",
        "plt.ylabel('Loss')\n",
        "plt.legend()\n",
        "plt.show()"
      ],
      "execution_count": 0,
      "outputs": [
        {
          "output_type": "display_data",
          "data": {
            "image/png": "[encoded data removed]",
            "text/plain": [
              "<Figure size 432x288 with 1 Axes>"
            ]
          },
          "metadata": {
            "tags": []
          }
        }
      ]
    },
    {
      "cell_type": "code",
      "metadata": {
        "id": "6XPMWtoDiCon",
        "colab_type": "code",
        "outputId": "794dd10b-ffa0-4f34-b4b8-7179275e5b59",
        "colab": {
          "base_uri": "https://localhost:8080/",
          "height": 295
        }
      },
      "source": [
        "acc = train_model.history['acc']\n",
        "val_acc = train_model.history['val_acc']\n",
        "plt.plot(epochss, acc, color='blue', label='Training acc')\n",
        "plt.plot(epochss, val_acc, color='black', label='Validation acc')\n",
        "plt.title('Training and validation accuracy')\n",
        "plt.xlabel('Epochs')\n",
        "plt.ylabel('Loss')\n",
        "plt.legend()\n",
        "plt.show()"
      ],
      "execution_count": 0,
      "outputs": [
        {
          "output_type": "display_data",
          "data": {
            "image/png": "[encoded data removed]",
            "text/plain": [
              "<Figure size 432x288 with 1 Axes>"
            ]
          },
          "metadata": {
            "tags": []
          }
        }
      ]
    },
    {
      "cell_type": "markdown",
      "metadata": {
        "id": "OlRzNwGJlERv",
        "colab_type": "text"
      },
      "source": [
        "# CONFUSION MATRIX\n",
        "untuk mempresentasikan jumlah data prediksi terhadap data testing\n",
        "Dimana jika urutan baris dan kolom nya sama, maka itu hasil prediksi tersebut benar. Begitu sebaliknya\n",
        "\n",
        "dengan data testing sebanyak 1000 maka data prediksinya juga harus 1000"
      ]
    },
    {
      "cell_type": "code",
      "metadata": {
        "id": "Mh22qsHViyHQ",
        "colab_type": "code",
        "colab": {}
      },
      "source": [
        "def plot_confusion_matrix(cm, classes,\n",
        "                          normalize=False,\n",
        "                          title='Confusion matrix',\n",
        "                          cmap=plt.cm.Blues):\n",
        "    \n",
        "    plt.imshow(cm, interpolation='nearest', cmap=cmap)\n",
        "    plt.title(title)\n",
        "    plt.colorbar()\n",
        "    tick_marks = np.arange(len(classes))\n",
        "    plt.xticks(tick_marks, classes, rotation=90)\n",
        "    plt.yticks(tick_marks, classes)\n",
        "\n",
        "    if normalize:\n",
        "        cm = cm.astype('float') / cm.sum(axis=1)[:, np.newaxis]\n",
        "\n",
        "    thresh = cm.max() / 2.\n",
        "    for i, j in itertools.product(range(cm.shape[0]), range(cm.shape[1])):\n",
        "        plt.text(j, i, cm[i, j],\n",
        "                 horizontalalignment=\"center\",\n",
        "                 color=\"white\" if cm[i, j] > thresh else \"black\")\n",
        "\n",
        "    plt.tight_layout()\n",
        "    plt.ylabel('True label')\n",
        "    plt.xlabel('Predicted label')"
      ],
      "execution_count": 0,
      "outputs": []
    },
    {
      "cell_type": "code",
      "metadata": {
        "id": "HbZEIvbTlPBx",
        "colab_type": "code",
        "outputId": "5794f62d-722e-4c66-d647-33a64ff9e614",
        "colab": {
          "base_uri": "https://localhost:8080/",
          "height": 311
        }
      },
      "source": [
        "\n",
        "Y_pred = model.predict(test_X)\n",
        "Y_pred_classes = np.argmax(Y_pred,axis = 1) \n",
        "Y_true = np.argmax(test_y,axis = 1) \n",
        "confusion_mtx = confusion_matrix(Y_true, Y_pred_classes) \n",
        "plot_confusion_matrix(confusion_mtx, \n",
        "            classes = ['T-shirt/Top','Trouser','Pullover','Dress','Coat','Sandal','Shirt','Sneaker','Bag','Ankle Boot'])"
      ],
      "execution_count": 0,
      "outputs": [
        {
          "output_type": "display_data",
          "data": {
            "image/png": "[encoded data removed]",
            "text/plain": [
              "<Figure size 432x288 with 2 Axes>"
            ]
          },
          "metadata": {
            "tags": []
          }
        }
      ]
    },
    {
      "cell_type": "markdown",
      "metadata": {
        "id": "sBfLoobJ1IfB",
        "colab_type": "text"
      },
      "source": [
        "# F-1 Score\n",
        "Digunakan untuk melihat hasil akurasi pada modelling CNN (Convolutional Neural Network). hasil akurasinya adalah 94 %"
      ]
    },
    {
      "cell_type": "code",
      "metadata": {
        "id": "rcKZ_x4JmlWD",
        "colab_type": "code",
        "colab": {}
      },
      "source": [
        "predicted_classes = model.predict_classes(test_X)"
      ],
      "execution_count": 0,
      "outputs": []
    },
    {
      "cell_type": "code",
      "metadata": {
        "id": "6fhpEHcClXX6",
        "colab_type": "code",
        "outputId": "51e61bf0-c990-4ffb-9202-b4c34aafdccc",
        "colab": {
          "base_uri": "https://localhost:8080/",
          "height": 306
        }
      },
      "source": [
        "target_names = [\"Class {} ({}) :\".format(i,labels[i]) for i in range(num_classes)]\n",
        "print(classification_report(Y_true, predicted_classes, target_names=target_names))"
      ],
      "execution_count": 0,
      "outputs": [
        {
          "output_type": "stream",
          "text": [
            "                         precision    recall  f1-score   support\n",
            "\n",
            "Class 0 (T-shirt/top) :       0.89      0.90      0.90      1000\n",
            "    Class 1 (Trouser) :       1.00      0.99      1.00      1000\n",
            "   Class 2 (Pullover) :       0.93      0.87      0.90      1000\n",
            "      Class 3 (Dress) :       0.94      0.95      0.94      1000\n",
            "       Class 4 (Coat) :       0.87      0.94      0.90      1000\n",
            "     Class 5 (Sandal) :       1.00      0.97      0.98      1000\n",
            "      Class 6 (Shirt) :       0.84      0.81      0.82      1000\n",
            "    Class 7 (Sneaker) :       0.95      0.97      0.96      1000\n",
            "        Class 8 (Bag) :       0.99      0.99      0.99      1000\n",
            "Class 9 (Angkle Boot) :       0.97      0.97      0.97      1000\n",
            "\n",
            "               accuracy                           0.94     10000\n",
            "              macro avg       0.94      0.94      0.94     10000\n",
            "           weighted avg       0.94      0.94      0.94     10000\n",
            "\n"
          ],
          "name": "stdout"
        }
      ]
    },
    {
      "cell_type": "markdown",
      "metadata": {
        "id": "k0Js3ZzxobIJ",
        "colab_type": "text"
      },
      "source": [
        "dari data report diatas terlihat bahwa rata-rata setiap kelas memiliki akurasi diatas 0,80 dimana class trouser terbesar yaitu 1,00 sedangkan yang terendah didapatkan oleh kelas shirt sebesar 0,82,\n",
        "\n",
        "akurasi keseluruhan didapatkan 0,94"
      ]
    },
    {
      "cell_type": "markdown",
      "metadata": {
        "id": "p3eVIJ6le06q",
        "colab_type": "text"
      },
      "source": [
        "#Visualisasi data prediksi"
      ]
    },
    {
      "cell_type": "code",
      "metadata": {
        "id": "-IcwiYs3mykU",
        "colab_type": "code",
        "colab": {}
      },
      "source": [
        "#menentukan data benar dan salah\n",
        "p = predicted_classes[:10000]\n",
        "y = Y_true[:10000]\n",
        "correct = np.nonzero(p==y)[0]\n",
        "incorrect = np.nonzero(p!=y)[0]\n",
        "\n"
      ],
      "execution_count": 0,
      "outputs": []
    },
    {
      "cell_type": "markdown",
      "metadata": {
        "id": "FN2TqSwzoQyy",
        "colab_type": "text"
      },
      "source": [
        "Didapatkan benar memprediksi sebanyak 9371 dan salah sebanyak 628 kelas\n"
      ]
    },
    {
      "cell_type": "code",
      "metadata": {
        "id": "BeYDAkOHgGz-",
        "colab_type": "code",
        "outputId": "f2a6b0df-36f5-45f0-8b23-4d6359960730",
        "colab": {
          "base_uri": "https://localhost:8080/",
          "height": 51
        }
      },
      "source": [
        "print(\"Correct predicted classes:\",correct.shape[0])\n",
        "print(\"Incorrect predicted classes:\",incorrect.shape[0])"
      ],
      "execution_count": 0,
      "outputs": [
        {
          "output_type": "stream",
          "text": [
            "Correct predicted classes: 9371\n",
            "Incorrect predicted classes: 629\n"
          ],
          "name": "stdout"
        }
      ]
    },
    {
      "cell_type": "code",
      "metadata": {
        "id": "4_KSn94elFo8",
        "colab_type": "code",
        "outputId": "13d99950-07b7-45fe-f4cb-e032f6155f26",
        "colab": {
          "base_uri": "https://localhost:8080/",
          "height": 608
        }
      },
      "source": [
        "def plot_images(data_index,cmap=\"Blues\"):\n",
        "    # Plot the sample images now\n",
        "    f, ax = plt.subplots(4,4, figsize=(10,10))\n",
        "\n",
        "    for i, indx in enumerate(data_index[:16]):\n",
        "        ax[i//4, i%4].imshow(test_X[indx].reshape(img_rows,img_cols), cmap=cmap)\n",
        "        ax[i//4, i%4].axis('off')\n",
        "        ax[i//4, i%4].set_title(\"True:{}  Pred:{}\".format(labels[Y_true[indx]],labels[predicted_classes[indx]]))\n",
        "    plt.show()    \n",
        "    \n",
        "plot_images(correct, \"Greens\")"
      ],
      "execution_count": 0,
      "outputs": [
        {
          "output_type": "display_data",
          "data": {
            "image/png": "[encoded data removed]",
            "text/plain": [
              "<Figure size 720x720 with 16 Axes>"
            ]
          },
          "metadata": {
            "tags": []
          }
        }
      ]
    },
    {
      "cell_type": "code",
      "metadata": {
        "id": "4-PFy_vclhp7",
        "colab_type": "code",
        "outputId": "6b7577b2-aa67-441a-98ac-dc3491844668",
        "colab": {
          "base_uri": "https://localhost:8080/",
          "height": 608
        }
      },
      "source": [
        "#data yang salah\n",
        "plot_images(incorrect, \"Reds\")"
      ],
      "execution_count": 0,
      "outputs": [
        {
          "output_type": "display_data",
          "data": {
            "image/png": "[encoded data removed]",
            "text/plain": [
              "<Figure size 720x720 with 16 Axes>"
            ]
          },
          "metadata": {
            "tags": []
          }
        }
      ]
    },
    {
      "cell_type": "code",
      "metadata": {
        "id": "R4wTCqLQn_ZP",
        "colab_type": "code",
        "colab": {}
      },
      "source": [
        ""
      ],
      "execution_count": 0,
      "outputs": []
    }
  ]
}